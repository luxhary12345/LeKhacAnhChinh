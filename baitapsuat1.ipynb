{
  "nbformat": 4,
  "nbformat_minor": 0,
  "metadata": {
    "colab": {
      "name": "baitapsuat1.ipynb",
      "provenance": [],
      "authorship_tag": "ABX9TyNDQQ54+bWXvbxsepXgGmgk",
      "include_colab_link": true
    },
    "kernelspec": {
      "name": "python3",
      "display_name": "Python 3"
    },
    "language_info": {
      "name": "python"
    }
  },
  "cells": [
    {
      "cell_type": "markdown",
      "metadata": {
        "id": "view-in-github",
        "colab_type": "text"
      },
      "source": [
        "<a href=\"https://colab.research.google.com/github/luxhary12345/LeKhacAnhChinh/blob/master/baitapsuat1.ipynb\" target=\"_parent\"><img src=\"https://colab.research.google.com/assets/colab-badge.svg\" alt=\"Open In Colab\"/></a>"
      ]
    },
    {
      "cell_type": "code",
      "metadata": {
        "colab": {
          "base_uri": "https://localhost:8080/"
        },
        "id": "1EdFMZFvMWZq",
        "outputId": "3f532ec4-dc4a-4a51-a4e3-0f1801bc812e"
      },
      "source": [
        "#bai1#\n",
        "x=1\n",
        "while x<11:\n",
        "  print(x)\n",
        "  x+=1"
      ],
      "execution_count": null,
      "outputs": [
        {
          "output_type": "stream",
          "name": "stdout",
          "text": [
            "1\n",
            "2\n",
            "3\n",
            "4\n",
            "5\n",
            "6\n",
            "7\n",
            "8\n",
            "9\n",
            "10\n"
          ]
        }
      ]
    },
    {
      "cell_type": "code",
      "metadata": {
        "colab": {
          "base_uri": "https://localhost:8080/"
        },
        "id": "_rUb5dAsMrMj",
        "outputId": "fc3901a4-2a98-4ac9-d5e3-05ec01fca10b"
      },
      "source": [
        "#bai2#\n",
        "for i in reversed(range(1,5)):\n",
        "  for j in reversed(range(0,i+2)):\n",
        "        print(j, end=' ')\n",
        "  print('')\n",
        "      \n"
      ],
      "execution_count": 81,
      "outputs": [
        {
          "output_type": "stream",
          "name": "stdout",
          "text": [
            "5 4 3 2 1 0 \n",
            "4 3 2 1 0 \n",
            "3 2 1 0 \n",
            "2 1 0 \n"
          ]
        }
      ]
    },
    {
      "cell_type": "code",
      "metadata": {
        "colab": {
          "base_uri": "https://localhost:8080/"
        },
        "id": "B5b1nAq3O9Tv",
        "outputId": "54014c12-f3c3-4e19-ad5a-9935eab6faf8"
      },
      "source": [
        "#bai3#\n",
        "nhap_so=int(input(\"nhap so vao\"))\n",
        "list1=[]\n",
        "for i in range(0,nhap_so):\n",
        "  i+=1\n",
        "  list1.append(i)\n",
        "tong=sum(list1)\n",
        "print(tong)\n"
      ],
      "execution_count": null,
      "outputs": [
        {
          "output_type": "stream",
          "name": "stdout",
          "text": [
            "nhap so vao5\n",
            "15\n"
          ]
        }
      ]
    },
    {
      "cell_type": "code",
      "metadata": {
        "colab": {
          "base_uri": "https://localhost:8080/"
        },
        "id": "dQr3y4MjP-eB",
        "outputId": "148f1e4e-40c1-4f02-eef2-12fb43ec76bb"
      },
      "source": [
        "#bai4#\n",
        "nhap_so=int(input(\"nhap so vao\"))\n",
        "for i in range(1,11):\n",
        "  ket_qua=nhap_so*i\n",
        "  print(f\"{nhap_so} x {i} = {ket_qua}\\n\")\n"
      ],
      "execution_count": null,
      "outputs": [
        {
          "output_type": "stream",
          "name": "stdout",
          "text": [
            "nhap so vao7\n",
            "7 x 1 = 7\n",
            "\n",
            "7 x 2 = 14\n",
            "\n",
            "7 x 3 = 21\n",
            "\n",
            "7 x 4 = 28\n",
            "\n",
            "7 x 5 = 35\n",
            "\n",
            "7 x 6 = 42\n",
            "\n",
            "7 x 7 = 49\n",
            "\n",
            "7 x 8 = 56\n",
            "\n",
            "7 x 9 = 63\n",
            "\n",
            "7 x 10 = 70\n",
            "\n"
          ]
        }
      ]
    },
    {
      "cell_type": "code",
      "metadata": {
        "colab": {
          "base_uri": "https://localhost:8080/"
        },
        "id": "xfb9ompPSrlU",
        "outputId": "bc8e1250-21c1-494f-c8bf-8b342fddfb7a"
      },
      "source": [
        "#bai5#\n",
        "list1=[]\n",
        "so_luong=int(input(\"nhap vao so luong so trong list\"))\n",
        "import random \n",
        "for i in range(-1,so_luong-1):\n",
        "  a=random.sample(range(1,10),1)\n",
        "  list1.append(a)\n",
        "  i+=1\n",
        "  print(list1[i])\n",
        "\n",
        "\n"
      ],
      "execution_count": null,
      "outputs": [
        {
          "output_type": "stream",
          "name": "stdout",
          "text": [
            "nhap vao so luong so trong list4\n",
            "[1]\n",
            "[4]\n",
            "[9]\n",
            "[1]\n"
          ]
        }
      ]
    },
    {
      "cell_type": "code",
      "metadata": {
        "colab": {
          "base_uri": "https://localhost:8080/"
        },
        "id": "aHO0eMd5WMq4",
        "outputId": "5f541cc6-c7b4-49a9-87c7-eb0e618bcb6c"
      },
      "source": [
        "#bai6#\n",
        "n=int(input(\"nhap so:\"))\n",
        "dem=0\n",
        "while(n>0):\n",
        "    dem=dem+1\n",
        "    n=n//10\n",
        "print(\"so luong so trong number la:\",dem)"
      ],
      "execution_count": null,
      "outputs": [
        {
          "output_type": "stream",
          "name": "stdout",
          "text": [
            "nhap so:676534\n",
            "so luong so trong number la: 6\n"
          ]
        }
      ]
    },
    {
      "cell_type": "code",
      "metadata": {
        "colab": {
          "base_uri": "https://localhost:8080/"
        },
        "id": "ydB-TjlF9awa",
        "outputId": "a4fca271-792e-48ff-f0fb-baa27047aaee"
      },
      "source": [
        "#bai7#\n",
        "list1=[]\n",
        "nhap_so=int(input(\"nhap so phan tu cua list\"))\n",
        "for i in range(1,nhap_so+1):\n",
        "  list1.append(random.choice(range(1,11)))\n",
        "print(\"list la:\",list1)\n",
        "for i in reversed(range(0,len(list1))):\n",
        "  print(list1[i], end=\" \")"
      ],
      "execution_count": 100,
      "outputs": [
        {
          "output_type": "stream",
          "name": "stdout",
          "text": [
            "nhap so phan tu cua list6\n",
            "list la: [1, 5, 10, 9, 10, 9]\n",
            "9 10 9 10 5 1 "
          ]
        }
      ]
    },
    {
      "cell_type": "code",
      "metadata": {
        "colab": {
          "base_uri": "https://localhost:8080/"
        },
        "id": "QViVt3lcXTMG",
        "outputId": "a6ced144-8e9b-4ce5-ad66-b36fbc3ea00f"
      },
      "source": [
        "#bai9#\n",
        "for i in range(1,5):\n",
        "  if i<5:\n",
        "    print(f\"numba {i}\")\n",
        "    i+=1\n",
        "  else:\n",
        "    break\n",
        "print(\"done\")\n",
        "\n"
      ],
      "execution_count": 101,
      "outputs": [
        {
          "output_type": "stream",
          "name": "stdout",
          "text": [
            "numba 1\n",
            "numba 2\n",
            "numba 3\n",
            "numba 4\n",
            "done\n"
          ]
        }
      ]
    },
    {
      "cell_type": "code",
      "metadata": {
        "colab": {
          "base_uri": "https://localhost:8080/"
        },
        "id": "32wq1RF5b9T8",
        "outputId": "5d953907-da02-4e28-acd7-1b08c84ceda4"
      },
      "source": [
        "#bai10#\n",
        "lower = int(input(\"nhap gioi han duoi: \"))  \n",
        "upper = int(input(\"nhap gioi han tren: \"))  \n",
        "  \n",
        "for num in range(lower,upper + 1):  \n",
        "   if num > 1:  \n",
        "       for i in range(2,num):  \n",
        "           if (num % i) == 0:  \n",
        "               break  \n",
        "       else:  \n",
        "           print(num)  "
      ],
      "execution_count": 103,
      "outputs": [
        {
          "output_type": "stream",
          "name": "stdout",
          "text": [
            "nhap gioi han duoi: 6\n",
            "nhap gioi han tren: 12\n",
            "7\n",
            "11\n"
          ]
        }
      ]
    },
    {
      "cell_type": "code",
      "metadata": {
        "colab": {
          "base_uri": "https://localhost:8080/"
        },
        "id": "CjEKAvKvEZ8H",
        "outputId": "fc82aebd-aac6-4225-c525-1ac33159dc8f"
      },
      "source": [
        "#bai12#\n",
        "nhap_so=int(input(\"nhap so can tim giai thua vao\"))\n",
        "if nhap_so<=0:\n",
        "  print(\"khong hop le\")\n",
        "giai_thua=1\n",
        "for i in range(1,nhap_so+1):\n",
        "  giai_thua*=i\n",
        "  i=i+1\n",
        "\n",
        "print(\"giai thua cua so la:\",giai_thua)"
      ],
      "execution_count": 115,
      "outputs": [
        {
          "output_type": "stream",
          "name": "stdout",
          "text": [
            "nhap so can tim giai thua vao4\n",
            "giai thua cua so la: 24\n"
          ]
        }
      ]
    },
    {
      "cell_type": "code",
      "metadata": {
        "colab": {
          "base_uri": "https://localhost:8080/"
        },
        "id": "LaX8skoxFwUz",
        "outputId": "a45ee572-73ec-458b-e754-9b4323d23dcd"
      },
      "source": [
        "#bai13#\n",
        "num=int(input(\"nhap so nguyen vao\"))\n",
        "test_num = 0\n",
        "while(num>0):\n",
        "  phan_du = num % 10\n",
        "  test_num = (test_num * 10) + phan_du\n",
        "  num = num//10\n",
        "print(\"so nguyen dao lai la : {}\".format(test_num))"
      ],
      "execution_count": 119,
      "outputs": [
        {
          "output_type": "stream",
          "name": "stdout",
          "text": [
            "nhap so nguyen vao23423\n",
            "so nguyen dao lai la : 32432\n"
          ]
        }
      ]
    },
    {
      "cell_type": "code",
      "metadata": {
        "colab": {
          "base_uri": "https://localhost:8080/"
        },
        "id": "WdQos422JI8b",
        "outputId": "2b6cad16-f146-42bf-9421-4a3020db18e8"
      },
      "source": [
        "#bai14#\n",
        "list1= [1, 4, 39, 27, 15,22,25,8,9,10,13,12,151,14,15,123]\n",
        "print(\"cac phan tu le: \") \n",
        "for i in range(0, len(list1)):\n",
        "  if list1[i]%2==1:\n",
        "    print(list1[i])\n",
        " \n",
        "  "
      ],
      "execution_count": 138,
      "outputs": [
        {
          "output_type": "stream",
          "name": "stdout",
          "text": [
            "cac phan tu le: \n",
            "1\n",
            "39\n",
            "27\n",
            "15\n",
            "25\n",
            "9\n",
            "13\n",
            "151\n",
            "15\n",
            "123\n"
          ]
        }
      ]
    },
    {
      "cell_type": "code",
      "metadata": {
        "colab": {
          "base_uri": "https://localhost:8080/"
        },
        "id": "fb4wchDtMn0i",
        "outputId": "c32eb891-56c1-4bee-e3c3-93c0418eec49"
      },
      "source": [
        "#bai15#\n",
        "nhap_so=int(input(\"nhap so cuoi cung can tim cube trong day so:\"))\n",
        "for i in range(1, nhap_so+1):\n",
        "  print(i*i*i)\n",
        "  i+=1\n"
      ],
      "execution_count": 141,
      "outputs": [
        {
          "output_type": "stream",
          "name": "stdout",
          "text": [
            "nhap so cuoi cung can tim cube trong day so:10\n",
            "1\n",
            "8\n",
            "27\n",
            "64\n",
            "125\n",
            "216\n",
            "343\n",
            "512\n",
            "729\n",
            "1000\n"
          ]
        }
      ]
    }
  ]
}