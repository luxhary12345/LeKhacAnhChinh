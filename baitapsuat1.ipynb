{
  "nbformat": 4,
  "nbformat_minor": 0,
  "metadata": {
    "colab": {
      "name": "baitapsuat1.ipynb",
      "provenance": [],
      "authorship_tag": "ABX9TyPbW/R/yTIH/2N+bzHHomzO",
      "include_colab_link": true
    },
    "kernelspec": {
      "name": "python3",
      "display_name": "Python 3"
    },
    "language_info": {
      "name": "python"
    }
  },
  "cells": [
    {
      "cell_type": "markdown",
      "metadata": {
        "id": "view-in-github",
        "colab_type": "text"
      },
      "source": [
        "<a href=\"https://colab.research.google.com/github/luxhary12345/LeKhacAnhChinh/blob/master/baitapsuat1.ipynb\" target=\"_parent\"><img src=\"https://colab.research.google.com/assets/colab-badge.svg\" alt=\"Open In Colab\"/></a>"
      ]
    },
    {
      "cell_type": "code",
      "metadata": {
        "colab": {
          "base_uri": "https://localhost:8080/"
        },
        "id": "PH_8GYz7B8Ds",
        "outputId": "6e686c74-b137-4948-d19a-9552218d3218"
      },
      "source": [
        "#bai1#\n",
        "nhapso=float(input(\"nhap so vao\"))\n",
        "if nhapso>0:\n",
        "  print(\"day la so duong \")\n",
        "elif nhapso<0:\n",
        "  print(\"day la so am\")\n"
      ],
      "execution_count": null,
      "outputs": [
        {
          "output_type": "stream",
          "name": "stdout",
          "text": [
            "nhap so vao-2321\n",
            "day la so am\n"
          ]
        }
      ]
    },
    {
      "cell_type": "code",
      "metadata": {
        "colab": {
          "base_uri": "https://localhost:8080/"
        },
        "id": "uFZ3WNxICR8_",
        "outputId": "0c4ece73-c46e-4cba-c950-d53061984c0d"
      },
      "source": [
        "#bai2#\n",
        "max=0\n",
        "so1=float(input(\"nhap so dau\"))\n",
        "so2=float(input(\"nhap so thu hai\"))\n",
        "so3=float(input(\"nhap so thu ba\"))\n",
        "if max< so1:\n",
        "  max=so1\n",
        "if max< so2:\n",
        "  max=so2\n",
        "if max < so3:\n",
        "  max=so3\n",
        "print(\"so lon nhat la\",max)"
      ],
      "execution_count": null,
      "outputs": [
        {
          "output_type": "stream",
          "name": "stdout",
          "text": [
            "nhap so dau5\n",
            "nhap so thu hai2\n",
            "nhap so thu ba7\n",
            "so lon nhat la 7.0\n"
          ]
        }
      ]
    },
    {
      "cell_type": "code",
      "metadata": {
        "colab": {
          "base_uri": "https://localhost:8080/"
        },
        "id": "01n5wYqbC_Vy",
        "outputId": "dc198475-2ca1-44bd-838d-e3b51067e746"
      },
      "source": [
        "#bai3#\n",
        "nhapso=float(input(\"nhap so vao\"))\n",
        "if nhapso==0:\n",
        "  print(\"day la so 0\")\n",
        "else:\n",
        "  if nhapso>0:\n",
        "    print(\"day la so duong \")\n",
        "  elif nhapso<0:\n",
        "    print(\"day la so am\")\n",
        "if abs(nhapso) <1:\n",
        "  print(\"so nho\")\n",
        "elif abs (nhapso) >1000000:\n",
        "  print(\"so lon\")"
      ],
      "execution_count": null,
      "outputs": [
        {
          "output_type": "stream",
          "name": "stdout",
          "text": [
            "nhap so vao-0.0334\n",
            "day la so am\n",
            "so nho\n"
          ]
        }
      ]
    },
    {
      "cell_type": "code",
      "metadata": {
        "colab": {
          "base_uri": "https://localhost:8080/"
        },
        "id": "M9iprAvjEasB",
        "outputId": "cca7bac2-044b-41d0-fd10-e865f552c839"
      },
      "source": [
        "#bai4#\n",
        "nhapso=int(input(\"nhap so vao\"))\n",
        "so_ngay=nhapso%7+1\n",
        "if so_ngay!=8 and so_ngay!=1:\n",
        "  print(f\"hom nay nay la thu {so_ngay} \")\n",
        "else:\n",
        "  if so_ngay==8:\n",
        "    print(\"hom nay la chu nhat\")\n",
        "  elif so_ngay==1:\n",
        "    print(\"hom nay la chu nhat\")"
      ],
      "execution_count": null,
      "outputs": [
        {
          "output_type": "stream",
          "name": "stdout",
          "text": [
            "nhap so vao1\n",
            "hom nay nay la thu 2 \n"
          ]
        }
      ]
    },
    {
      "cell_type": "code",
      "metadata": {
        "id": "m9jwNVc5H76v"
      },
      "source": [
        ""
      ],
      "execution_count": null,
      "outputs": []
    },
    {
      "cell_type": "code",
      "metadata": {
        "colab": {
          "base_uri": "https://localhost:8080/"
        },
        "id": "ekbnzEr6D2gf",
        "outputId": "4b542d83-7522-4dd2-ad4f-77b8254b7c5c"
      },
      "source": [
        "#bai5#\n",
        "#tinh toan xem phan thap phan cua 2 so co bang nhau khong#\n",
        "so1=float(input(\"nhap so vao\"))%1\n",
        "so2=float(input(\"nhap so vao\"))%1\n",
        "\n",
        "so1=round(so1,3)\n",
        "so2=round(so2,3)\n",
        "if so1==so2:\n",
        "  print(\"decimal bang nhau\")\n",
        "else:\n",
        "  print(\"decimal khac nhau\")"
      ],
      "execution_count": null,
      "outputs": [
        {
          "output_type": "stream",
          "name": "stdout",
          "text": [
            "nhap so vao2.123\n",
            "nhap so vao4.123\n",
            "decimal bang nhau\n"
          ]
        }
      ]
    }
  ]
}