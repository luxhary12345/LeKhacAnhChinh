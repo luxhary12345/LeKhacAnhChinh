{
  "nbformat": 4,
  "nbformat_minor": 0,
  "metadata": {
    "colab": {
      "name": "bai1hoanchinh.ipynb",
      "provenance": [],
      "authorship_tag": "ABX9TyONnZUWzY0PssVI+p+1CWKi",
      "include_colab_link": true
    },
    "kernelspec": {
      "name": "python3",
      "display_name": "Python 3"
    },
    "language_info": {
      "name": "python"
    }
  },
  "cells": [
    {
      "cell_type": "markdown",
      "metadata": {
        "id": "view-in-github",
        "colab_type": "text"
      },
      "source": [
        "<a href=\"https://colab.research.google.com/github/luxhary12345/LeKhacAnhChinh/blob/master/bai1hoanchinh.ipynb\" target=\"_parent\"><img src=\"https://colab.research.google.com/assets/colab-badge.svg\" alt=\"Open In Colab\"/></a>"
      ]
    },
    {
      "cell_type": "markdown",
      "metadata": {
        "id": "9A4PpDExs_aA"
      },
      "source": [
        "Bài 1: Hãy xây dựng một hàm thực hiện các yêu cầu sau:\n",
        "- Xuất ra màn hình câu thông báo: “Lập trình Java 2021”\n",
        "- Hàm không có giá trị trả về\n",
        "Từ chương trình chính, gọi thực hiện hàm này.\n"
      ]
    },
    {
      "cell_type": "code",
      "metadata": {
        "id": "WBYHScbrs4Rw"
      },
      "source": [
        "def java():\n",
        "  print(\"lap trinh java 2021\")\n",
        "def main():\n",
        "  java()"
      ],
      "execution_count": null,
      "outputs": []
    },
    {
      "cell_type": "markdown",
      "metadata": {
        "id": "x_-g94GMtHsY"
      },
      "source": [
        "Bài 2: Hãy xây dựng một hàm thực hiện các yêu cầu sau:\n",
        "- Nhận một tham số đầu vào là một chuỗi ký tự (kiểu String)\n",
        "- Xuất ra màn hình nội dung chuỗi được truyền vào từ tham số\n",
        "- Hàm không có giá trị trả về\n",
        "Từ chương trình chính gọi thực hiện hàm này"
      ]
    },
    {
      "cell_type": "code",
      "metadata": {
        "colab": {
          "base_uri": "https://localhost:8080/"
        },
        "id": "1E3a7GgQtGD6",
        "outputId": "eda949ec-32e9-402d-e6fd-fc1cb114b839"
      },
      "source": [
        "def nhap_string(strong):\n",
        "  strong=input(\"nhap chuoi\")\n",
        "  print(strong)\n",
        "def main():\n",
        "  nhap_string(strong)"
      ],
      "execution_count": null,
      "outputs": [
        {
          "output_type": "stream",
          "name": "stdout",
          "text": [
            "nhap chuoiasdasd\n",
            "asdasd\n",
            "None\n"
          ]
        }
      ]
    },
    {
      "cell_type": "markdown",
      "metadata": {
        "id": "KrPphkwntrk8"
      },
      "source": [
        "Bài 3: Hãy viết chương trình thực hiện các yêu cầu sau:\n",
        "- Nhập một số nguyên dương n từ bàn phím (kiểm tra nếu không đạt yêu cầu thì bắt nhập\n",
        "lại)\n",
        "- Nhập một thông điệp từ bàn phím\n",
        "- Gọi thực hiện hàm ở Bài 2 n lần với thông điệp được truyền làm tham số đầu vào của hàm."
      ]
    },
    {
      "cell_type": "code",
      "metadata": {
        "colab": {
          "base_uri": "https://localhost:8080/"
        },
        "id": "cJbyKvRHtq7H",
        "outputId": "0b7ba115-8305-4038-a1bc-74a6bc254874"
      },
      "source": [
        "def nhap_string(strong):\n",
        "  print(strong)\n",
        "nhap_string(strong)\n",
        "\n",
        "\n",
        "while True:\n",
        "  try:\n",
        "    a =input(\"nhap so vao \")\n",
        "    b=bool(a.isdigit())\n",
        "    if b==True and int(a)>0:\n",
        "      c=input(\" nhap thong diep\")\n",
        "      break  \n",
        "    else:\n",
        "      print(\"nhap sai, nhap lai.\")      \n",
        "  except ValueError:\n",
        "    print(\"nhap sai, nhap lai\")\n",
        "\n",
        "for i in range(int(a)+1):\n",
        "  nhap_string(c)\n",
        "  #sai yeu cau thu 3 cua bai 3#"
      ],
      "execution_count": 22,
      "outputs": [
        {
          "output_type": "stream",
          "name": "stdout",
          "text": [
            "asda\n",
            "nhap so vao 6\n",
            " nhap thong diepasd\n",
            "asd\n",
            "asd\n",
            "asd\n",
            "asd\n",
            "asd\n",
            "asd\n",
            "asd\n"
          ]
        }
      ]
    },
    {
      "cell_type": "markdown",
      "metadata": {
        "id": "g11EXlQjBL-Q"
      },
      "source": [
        ""
      ]
    },
    {
      "cell_type": "markdown",
      "metadata": {
        "id": "fNoJkYnY3R4c"
      },
      "source": [
        ""
      ]
    },
    {
      "cell_type": "markdown",
      "metadata": {
        "id": "7J4KaljZ7nyM"
      },
      "source": [
        "Bài 4: Hãy viết chương trình thực hiện các yêu cầu sau:\n",
        "- Xây dựng hàm giải phương trình bậc 1 (ax + b = 0), với hệ số a & b được truyền vào qua\n",
        "thông số của hàm.\n",
        "- Chương trình chính nhận các thông số a, b từ bàn phím\n",
        "- Chương trình chính gọi hàm giải phương trình bậc 1 nêu trên"
      ]
    },
    {
      "cell_type": "code",
      "metadata": {
        "id": "h3vHE9PY7ryu"
      },
      "source": [
        "def ph_trinh(a,b):\n",
        "  a=float(input(\"nhap so a\"))\n",
        "  b=float(input(\"nhap so b\"))\n",
        "  x=0\n",
        "  if a==0 and b==0:\n",
        "    print(\"vo so nghiem\")\n",
        "  elif a==0 and b!=0:\n",
        "    print(\"vo nghiem\")\n",
        "  else:\n",
        "    x=-b/a\n",
        "     \n",
        "\n",
        "def main():\n",
        "  a=float(input(\"nhap a:\"))\n",
        "  b=float(input(\"nhap b\"))\n",
        "  ph_trinh(a,b)\n"
      ],
      "execution_count": null,
      "outputs": []
    },
    {
      "cell_type": "markdown",
      "metadata": {
        "id": "aNH-S-_r3TiO"
      },
      "source": [
        "Bài 5: Hãy viết chương trình thực hiện các yêu cầu sau:\n",
        "- Xây dựng hàm giải phương trình bậc (ax2 + bx + c = 0), với hệ số a & b & c được truyền\n",
        "vào qua thông số của hàm.\n",
        "- Chương trình chính nhận các thông số a, b & c từ bàn phím\n",
        "- Chương trình chính gọi hàm giải phương trình bậc 2 nêu trên"
      ]
    },
    {
      "cell_type": "code",
      "metadata": {
        "colab": {
          "base_uri": "https://localhost:8080/"
        },
        "id": "4Y7a5hjz3RJr",
        "outputId": "07c052c9-4e12-46e3-885e-bcb56e760cd1"
      },
      "source": [
        "from math import  sqrt\n",
        "def ph_trinh2(a,b,c):\n",
        "  a=float(input(\"nhap a\"))\n",
        "  b=float(input(\"nhap b\"))\n",
        "  c=float(input(\"nhap c\"))\n",
        "  d=b*b-4*a*c\n",
        "  if a==0:\n",
        "    ph_trinh(b,c)\n",
        "  elif d>0:\n",
        "    print(\"phuong trinh co 2 nghiem phan biet x1=\",(-b+sqrt(d))/(2*a)),\"x2=\",(-b-sqrt(d)/(2*a))\n",
        "  elif d==0:\n",
        "    print(\"phuong trinh co nghiem kep x1=x2=\",-b/(2*a))\n",
        "  elif d<0:\n",
        "    print(\"phuong trinh vo nghiem\")\n",
        "def main():\n",
        "  a=float(input(\"nhap a\"))\n",
        "  b=float(input(\"nhap b\"))\n",
        "  c=float(input(\"nhap c\"))\n",
        "  ph_trinh2(a,b,c)\n"
      ],
      "execution_count": 25,
      "outputs": [
        {
          "output_type": "stream",
          "name": "stdout",
          "text": [
            "nhap a4\n",
            "nhap b2\n",
            "nhap c3\n",
            "nhap a1\n",
            "nhap b2\n",
            "nhap c3\n",
            "phuong trinh vo nghiem\n"
          ]
        }
      ]
    },
    {
      "cell_type": "markdown",
      "metadata": {
        "id": "A1H3sghS-DsE"
      },
      "source": [
        "Bài 6: Hãy viết chương trình thực hiện các yêu cầu sau:\n",
        "\n",
        "- Cho người dùng lựa chọn giải phương trình bậc 1 hay bậc 2 bằng cách nhập số (1 hay 2)\n",
        "từ bàn phím\n",
        "- Nếu người dùng chọn giải phương trình bậc 1, thì thực hiện các bước như Bài 4\n",
        "- Nếu người dùng chọn giải phương trình bậc 2, thì thực hiện các bước như Bài 5"
      ]
    },
    {
      "cell_type": "code",
      "metadata": {
        "colab": {
          "base_uri": "https://localhost:8080/"
        },
        "id": "iORR-91f-CRz",
        "outputId": "a8b10c9b-5816-4564-d1ff-c972265dcf51"
      },
      "source": [
        "lua_chon=int(input(\"nhap so 1 de giai phtrinh bac 1 hoac 2  de giai phuong trinh bac 2\"))\n",
        "if lua_chon==1:\n",
        "  ph_trinh(a,b)\n",
        "elif lua_chon==2:\n",
        "  ph_trinh2(a,b,c)\n",
        "#phuong trinh bac 1  bi loi#"
      ],
      "execution_count": 27,
      "outputs": [
        {
          "output_type": "stream",
          "name": "stdout",
          "text": [
            "nhap so 1 de giai phtrinh bac 1 hoac 2  de giai phuong trinh bac 22\n",
            "nhap a4\n",
            "nhap b5\n",
            "nhap c2\n",
            "phuong trinh vo nghiem\n"
          ]
        }
      ]
    },
    {
      "cell_type": "markdown",
      "metadata": {
        "id": "gUu5Iv0mBQnN"
      },
      "source": [
        "Bài 7: Viết chương trình thực hiện các yêu cầu sau:\n",
        "- Thực hiện yêu cầu như bài 6\n",
        "- Sau khi thực hiện xong cho người dùng lựa chọn tiếp tục thực hiện lại hay kết thúc chương\n",
        "trình"
      ]
    },
    {
      "cell_type": "code",
      "metadata": {
        "colab": {
          "base_uri": "https://localhost:8080/",
          "height": 680
        },
        "id": "TuKfSMSfBRbz",
        "outputId": "01babaf6-cd23-4a84-a8b0-8c9c15783a15"
      },
      "source": [
        "#code copy tu bai 3 va 4 them phan sau#\n",
        "def ph_trinh(a,b):\n",
        "  a=float(input(\"nhap so a\"))\n",
        "  b=float(input(\"nhap so b\"))\n",
        "  x=0\n",
        "  if a==0 and b==0:\n",
        "    print(\"vo so nghiem\")\n",
        "  elif a==0 and b!=0:\n",
        "    print(\"vo nghiem\")\n",
        "  else:\n",
        "    x=-b/a\n",
        "\n",
        "from math import  sqrt\n",
        "def ph_trinh2(a,b,c):\n",
        "  a=float(input(\"nhap a\"))\n",
        "  b=float(input(\"nhap b\"))\n",
        "  c=float(input(\"nhap c\"))\n",
        "  d=b*b-4*a*c\n",
        "  if a==0:\n",
        "    ph_trinh(b,c)\n",
        "  elif d>0:\n",
        "    print(\"phuong trinh co 2 nghiem phan biet x1=\",(-b+sqrt(d))/(2*a)),\"x2=\",(-b-sqrt(d)/(2*a))\n",
        "  elif d==0:\n",
        "    print(\"phuong trinh co nghiem kep x1=x2=\",-b/(2*a))\n",
        "  elif d<0:\n",
        "    print(\"phuong trinh vo nghiem\")\n",
        "def main():\n",
        "  a=float(input(\"nhap a\"))\n",
        "  b=float(input(\"nhap b\"))\n",
        "  c=float(input(\"nhap c\"))\n",
        "  ph_trinh2(a,b,c)\n",
        "     \n",
        "\n",
        "def main():\n",
        "  a=float(input(\"nhap a:\"))\n",
        "  b=float(input(\"nhap b\"))\n",
        "  ph_trinh(a,b)\n",
        "while True:\n",
        "  lua_chon=int(input(\"nhap so 1 de giai phtrinh bac 1 hoac 2  de giai phuong trinh bac 2\"))\n",
        "  if lua_chon==1:\n",
        "    ph_trinh(\"a\",\"b\")\n",
        "  elif lua_chon==2:\n",
        "    ph_trinh2(\"a\",\"b\",\"c\")\n",
        "  chon=input(\"tiep tuc hay dung?\")\n",
        "  if chon==\"dung\": \n",
        "    print(\"wowwowwow\")\n",
        "    break\n",
        "  \n"
      ],
      "execution_count": 26,
      "outputs": [
        {
          "output_type": "stream",
          "name": "stdout",
          "text": [
            "nhap so 1 de giai phtrinh bac 1 hoac 2  de giai phuong trinh bac 21\n",
            "nhap so a4\n",
            "nhap so b2\n",
            "tiep tuc hay dung?tiep tuc\n",
            "nhap so 1 de giai phtrinh bac 1 hoac 2  de giai phuong trinh bac 22\n",
            "nhap a4\n",
            "nhap b5\n",
            "nhap c2\n",
            "phuong trinh vo nghiem\n"
          ]
        },
        {
          "output_type": "error",
          "ename": "KeyboardInterrupt",
          "evalue": "ignored",
          "traceback": [
            "\u001b[0;31m---------------------------------------------------------------------------\u001b[0m",
            "\u001b[0;31mKeyboardInterrupt\u001b[0m                         Traceback (most recent call last)",
            "\u001b[0;32m/usr/local/lib/python3.7/dist-packages/ipykernel/kernelbase.py\u001b[0m in \u001b[0;36m_input_request\u001b[0;34m(self, prompt, ident, parent, password)\u001b[0m\n\u001b[1;32m    728\u001b[0m             \u001b[0;32mtry\u001b[0m\u001b[0;34m:\u001b[0m\u001b[0;34m\u001b[0m\u001b[0;34m\u001b[0m\u001b[0m\n\u001b[0;32m--> 729\u001b[0;31m                 \u001b[0mident\u001b[0m\u001b[0;34m,\u001b[0m \u001b[0mreply\u001b[0m \u001b[0;34m=\u001b[0m \u001b[0mself\u001b[0m\u001b[0;34m.\u001b[0m\u001b[0msession\u001b[0m\u001b[0;34m.\u001b[0m\u001b[0mrecv\u001b[0m\u001b[0;34m(\u001b[0m\u001b[0mself\u001b[0m\u001b[0;34m.\u001b[0m\u001b[0mstdin_socket\u001b[0m\u001b[0;34m,\u001b[0m \u001b[0;36m0\u001b[0m\u001b[0;34m)\u001b[0m\u001b[0;34m\u001b[0m\u001b[0;34m\u001b[0m\u001b[0m\n\u001b[0m\u001b[1;32m    730\u001b[0m             \u001b[0;32mexcept\u001b[0m \u001b[0mException\u001b[0m\u001b[0;34m:\u001b[0m\u001b[0;34m\u001b[0m\u001b[0;34m\u001b[0m\u001b[0m\n",
            "\u001b[0;32m/usr/local/lib/python3.7/dist-packages/jupyter_client/session.py\u001b[0m in \u001b[0;36mrecv\u001b[0;34m(self, socket, mode, content, copy)\u001b[0m\n\u001b[1;32m    802\u001b[0m         \u001b[0;32mtry\u001b[0m\u001b[0;34m:\u001b[0m\u001b[0;34m\u001b[0m\u001b[0;34m\u001b[0m\u001b[0m\n\u001b[0;32m--> 803\u001b[0;31m             \u001b[0mmsg_list\u001b[0m \u001b[0;34m=\u001b[0m \u001b[0msocket\u001b[0m\u001b[0;34m.\u001b[0m\u001b[0mrecv_multipart\u001b[0m\u001b[0;34m(\u001b[0m\u001b[0mmode\u001b[0m\u001b[0;34m,\u001b[0m \u001b[0mcopy\u001b[0m\u001b[0;34m=\u001b[0m\u001b[0mcopy\u001b[0m\u001b[0;34m)\u001b[0m\u001b[0;34m\u001b[0m\u001b[0;34m\u001b[0m\u001b[0m\n\u001b[0m\u001b[1;32m    804\u001b[0m         \u001b[0;32mexcept\u001b[0m \u001b[0mzmq\u001b[0m\u001b[0;34m.\u001b[0m\u001b[0mZMQError\u001b[0m \u001b[0;32mas\u001b[0m \u001b[0me\u001b[0m\u001b[0;34m:\u001b[0m\u001b[0;34m\u001b[0m\u001b[0;34m\u001b[0m\u001b[0m\n",
            "\u001b[0;32m/usr/local/lib/python3.7/dist-packages/zmq/sugar/socket.py\u001b[0m in \u001b[0;36mrecv_multipart\u001b[0;34m(self, flags, copy, track)\u001b[0m\n\u001b[1;32m    624\u001b[0m         \"\"\"\n\u001b[0;32m--> 625\u001b[0;31m         \u001b[0mparts\u001b[0m \u001b[0;34m=\u001b[0m \u001b[0;34m[\u001b[0m\u001b[0mself\u001b[0m\u001b[0;34m.\u001b[0m\u001b[0mrecv\u001b[0m\u001b[0;34m(\u001b[0m\u001b[0mflags\u001b[0m\u001b[0;34m,\u001b[0m \u001b[0mcopy\u001b[0m\u001b[0;34m=\u001b[0m\u001b[0mcopy\u001b[0m\u001b[0;34m,\u001b[0m \u001b[0mtrack\u001b[0m\u001b[0;34m=\u001b[0m\u001b[0mtrack\u001b[0m\u001b[0;34m)\u001b[0m\u001b[0;34m]\u001b[0m\u001b[0;34m\u001b[0m\u001b[0;34m\u001b[0m\u001b[0m\n\u001b[0m\u001b[1;32m    626\u001b[0m         \u001b[0;31m# have first part already, only loop while more to receive\u001b[0m\u001b[0;34m\u001b[0m\u001b[0;34m\u001b[0m\u001b[0;34m\u001b[0m\u001b[0m\n",
            "\u001b[0;32mzmq/backend/cython/socket.pyx\u001b[0m in \u001b[0;36mzmq.backend.cython.socket.Socket.recv\u001b[0;34m()\u001b[0m\n",
            "\u001b[0;32mzmq/backend/cython/socket.pyx\u001b[0m in \u001b[0;36mzmq.backend.cython.socket.Socket.recv\u001b[0;34m()\u001b[0m\n",
            "\u001b[0;32mzmq/backend/cython/socket.pyx\u001b[0m in \u001b[0;36mzmq.backend.cython.socket._recv_copy\u001b[0;34m()\u001b[0m\n",
            "\u001b[0;32m/usr/local/lib/python3.7/dist-packages/zmq/backend/cython/checkrc.pxd\u001b[0m in \u001b[0;36mzmq.backend.cython.checkrc._check_rc\u001b[0;34m()\u001b[0m\n",
            "\u001b[0;31mKeyboardInterrupt\u001b[0m: ",
            "\nDuring handling of the above exception, another exception occurred:\n",
            "\u001b[0;31mKeyboardInterrupt\u001b[0m                         Traceback (most recent call last)",
            "\u001b[0;32m<ipython-input-26-b063516539ef>\u001b[0m in \u001b[0;36m<module>\u001b[0;34m()\u001b[0m\n\u001b[1;32m     42\u001b[0m   \u001b[0;32melif\u001b[0m \u001b[0mlua_chon\u001b[0m\u001b[0;34m==\u001b[0m\u001b[0;36m2\u001b[0m\u001b[0;34m:\u001b[0m\u001b[0;34m\u001b[0m\u001b[0;34m\u001b[0m\u001b[0m\n\u001b[1;32m     43\u001b[0m     \u001b[0mph_trinh2\u001b[0m\u001b[0;34m(\u001b[0m\u001b[0;34m\"a\"\u001b[0m\u001b[0;34m,\u001b[0m\u001b[0;34m\"b\"\u001b[0m\u001b[0;34m,\u001b[0m\u001b[0;34m\"c\"\u001b[0m\u001b[0;34m)\u001b[0m\u001b[0;34m\u001b[0m\u001b[0;34m\u001b[0m\u001b[0m\n\u001b[0;32m---> 44\u001b[0;31m   \u001b[0mchon\u001b[0m\u001b[0;34m=\u001b[0m\u001b[0minput\u001b[0m\u001b[0;34m(\u001b[0m\u001b[0;34m\"tiep tuc hay dung?\"\u001b[0m\u001b[0;34m)\u001b[0m\u001b[0;34m\u001b[0m\u001b[0;34m\u001b[0m\u001b[0m\n\u001b[0m\u001b[1;32m     45\u001b[0m   \u001b[0;32mif\u001b[0m \u001b[0mchon\u001b[0m\u001b[0;34m==\u001b[0m\u001b[0;34m\"dung\"\u001b[0m\u001b[0;34m:\u001b[0m\u001b[0;34m\u001b[0m\u001b[0;34m\u001b[0m\u001b[0m\n\u001b[1;32m     46\u001b[0m     \u001b[0mprint\u001b[0m\u001b[0;34m(\u001b[0m\u001b[0;34m\"wowwowwow\"\u001b[0m\u001b[0;34m)\u001b[0m\u001b[0;34m\u001b[0m\u001b[0;34m\u001b[0m\u001b[0m\n",
            "\u001b[0;32m/usr/local/lib/python3.7/dist-packages/ipykernel/kernelbase.py\u001b[0m in \u001b[0;36mraw_input\u001b[0;34m(self, prompt)\u001b[0m\n\u001b[1;32m    702\u001b[0m             \u001b[0mself\u001b[0m\u001b[0;34m.\u001b[0m\u001b[0m_parent_ident\u001b[0m\u001b[0;34m,\u001b[0m\u001b[0;34m\u001b[0m\u001b[0;34m\u001b[0m\u001b[0m\n\u001b[1;32m    703\u001b[0m             \u001b[0mself\u001b[0m\u001b[0;34m.\u001b[0m\u001b[0m_parent_header\u001b[0m\u001b[0;34m,\u001b[0m\u001b[0;34m\u001b[0m\u001b[0;34m\u001b[0m\u001b[0m\n\u001b[0;32m--> 704\u001b[0;31m             \u001b[0mpassword\u001b[0m\u001b[0;34m=\u001b[0m\u001b[0;32mFalse\u001b[0m\u001b[0;34m,\u001b[0m\u001b[0;34m\u001b[0m\u001b[0;34m\u001b[0m\u001b[0m\n\u001b[0m\u001b[1;32m    705\u001b[0m         )\n\u001b[1;32m    706\u001b[0m \u001b[0;34m\u001b[0m\u001b[0m\n",
            "\u001b[0;32m/usr/local/lib/python3.7/dist-packages/ipykernel/kernelbase.py\u001b[0m in \u001b[0;36m_input_request\u001b[0;34m(self, prompt, ident, parent, password)\u001b[0m\n\u001b[1;32m    732\u001b[0m             \u001b[0;32mexcept\u001b[0m \u001b[0mKeyboardInterrupt\u001b[0m\u001b[0;34m:\u001b[0m\u001b[0;34m\u001b[0m\u001b[0;34m\u001b[0m\u001b[0m\n\u001b[1;32m    733\u001b[0m                 \u001b[0;31m# re-raise KeyboardInterrupt, to truncate traceback\u001b[0m\u001b[0;34m\u001b[0m\u001b[0;34m\u001b[0m\u001b[0;34m\u001b[0m\u001b[0m\n\u001b[0;32m--> 734\u001b[0;31m                 \u001b[0;32mraise\u001b[0m \u001b[0mKeyboardInterrupt\u001b[0m\u001b[0;34m\u001b[0m\u001b[0;34m\u001b[0m\u001b[0m\n\u001b[0m\u001b[1;32m    735\u001b[0m             \u001b[0;32melse\u001b[0m\u001b[0;34m:\u001b[0m\u001b[0;34m\u001b[0m\u001b[0;34m\u001b[0m\u001b[0m\n\u001b[1;32m    736\u001b[0m                 \u001b[0;32mbreak\u001b[0m\u001b[0;34m\u001b[0m\u001b[0;34m\u001b[0m\u001b[0m\n",
            "\u001b[0;31mKeyboardInterrupt\u001b[0m: "
          ]
        }
      ]
    }
  ]
}