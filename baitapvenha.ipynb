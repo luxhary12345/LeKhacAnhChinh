{
  "nbformat": 4,
  "nbformat_minor": 0,
  "metadata": {
    "colab": {
      "name": "baitapvenha.ipynb",
      "provenance": [],
      "authorship_tag": "ABX9TyNi7dk5TJH0tbxUbsHKdjp2",
      "include_colab_link": true
    },
    "kernelspec": {
      "name": "python3",
      "display_name": "Python 3"
    },
    "language_info": {
      "name": "python"
    }
  },
  "cells": [
    {
      "cell_type": "markdown",
      "metadata": {
        "id": "view-in-github",
        "colab_type": "text"
      },
      "source": [
        "<a href=\"https://colab.research.google.com/github/luxhary12345/LeKhacAnhChinh/blob/master/baitapvenha.ipynb\" target=\"_parent\"><img src=\"https://colab.research.google.com/assets/colab-badge.svg\" alt=\"Open In Colab\"/></a>"
      ]
    },
    {
      "cell_type": "markdown",
      "metadata": {
        "id": "tf9xvvegoCwO"
      },
      "source": [
        "BAI1:Bài 1: Viết chương trình thực hiện các yêu cầu sau:\n",
        "- Nhập vào 1 số nguyên dương N từ bàn phím\n",
        "- Hãy xây dựng 1 dictionary với các phần tử chỉ mục và giá trị có dạng (i: log(i)) với I đi từ\n",
        "0 tới N\n",
        "- Hiển thị dictionary trên ra màn hình"
      ]
    },
    {
      "cell_type": "code",
      "metadata": {
        "colab": {
          "base_uri": "https://localhost:8080/"
        },
        "id": "aQ2BwasjoLgw",
        "outputId": "f1088c6c-009f-41e0-94e3-f48ae5ac5e27"
      },
      "source": [
        "N=int(input(\"nhap vao so nguyen duong N\"))\n",
        "import math\n",
        "if N<=0:\n",
        "  print(\"sai input\")\n",
        "else:\n",
        "  dict1={}\n",
        "  for i in range(1,N+1):\n",
        "    dict1[i]=math.log(i)\n",
        "print(dict1)\n",
        "\n",
        "\n",
        " "
      ],
      "execution_count": 15,
      "outputs": [
        {
          "output_type": "stream",
          "name": "stdout",
          "text": [
            "nhap vao so nguyen duong N5\n",
            "{1: 0.0, 2: 0.6931471805599453, 3: 1.0986122886681098, 4: 1.3862943611198906, 5: 1.6094379124341003}\n"
          ]
        }
      ]
    },
    {
      "cell_type": "markdown",
      "metadata": {
        "id": "G6QVj8iHwt_5"
      },
      "source": [
        "Bài 2: Viết chương trình thực hiện các yêu cầu sau:\n",
        "- Nhập vào từ bàn phím một chuỗi các giá trị (có thể là số nguyên, số thực hay các ký tự)\n",
        "cách nhau bởi dấu phẩy (“,”).\n",
        "- Chuyển chuỗi được nhập từ bàn phím thành một danh sách (list)\n",
        "- Hiển thị danh sách đó ra màn hình.\n"
      ]
    },
    {
      "cell_type": "code",
      "metadata": {
        "colab": {
          "base_uri": "https://localhost:8080/"
        },
        "id": "L_CNG92lwy7C",
        "outputId": "c444f651-4a2e-4948-909a-2f6024b67f9f"
      },
      "source": [
        "chuoi_list=input(\"nhap cac gia tri vao tach nhau boi dau phay\").split(', ')\n",
        "print(chuoi_list)\n",
        "chuoi_tuple=tuple(chuoi_list)"
      ],
      "execution_count": 29,
      "outputs": [
        {
          "output_type": "stream",
          "name": "stdout",
          "text": [
            "nhap cac gia tri vao tach nhau boi dau phay5,6,G,%\n",
            "['5,6,G,%']\n"
          ]
        }
      ]
    },
    {
      "cell_type": "markdown",
      "metadata": {
        "id": "Wq3L8sj1zh9G"
      },
      "source": [
        "Bài 3: Viết chương trình thực hiện các yêu cầu sau:\n",
        "- Nhập vào từ bàn phím một chuỗi các giá trị (có thể là số nguyên, số thực hay các ký tự)\n",
        "cách nhau bởi dấu phẩy (“,”).\n",
        "- Chuyển chuỗi được nhập từ bàn phím thành một tuple\n",
        "- Hiển thị tuple đó ra màn hình."
      ]
    },
    {
      "cell_type": "code",
      "metadata": {
        "colab": {
          "base_uri": "https://localhost:8080/"
        },
        "id": "OD58XEfvzkj8",
        "outputId": "b35a549c-0da3-44c5-9d9a-11c25b800fe1"
      },
      "source": [
        "chuoi_list=input(\"nhap cac gia tri vao tach nhau boi dau phay\").split(', ')\n",
        "chuoi_tuple=tuple(chuoi_list)\n",
        "print(chuoi_tuple)"
      ],
      "execution_count": 25,
      "outputs": [
        {
          "output_type": "stream",
          "name": "stdout",
          "text": [
            "nhap cac gia tri vao tach nhau boi dau phay5,6,7,2,3,4,6,%\n",
            "('5,6,7,2,3,4,6,%',)\n"
          ]
        }
      ]
    },
    {
      "cell_type": "markdown",
      "metadata": {
        "id": "0tgN3wBj1LZk"
      },
      "source": [
        "Bài 4: Viết chương trình thực hiện các yêu cầu sau:\n",
        "- Nhập vào 1 chuỗi các kí tự từ bàn phím, các từ cách nhau bởi ít nhất một khoảng trắng\n",
        "- Chuyển chuỗi vừa nhập thành 1 danh sách với điều kiện phân tách là dấu khoảng trắng\n",
        "(space)\n",
        "- Hiển thị danh sách thu được ra màn hình"
      ]
    },
    {
      "cell_type": "code",
      "metadata": {
        "colab": {
          "base_uri": "https://localhost:8080/"
        },
        "id": "JVMhjV481N5U",
        "outputId": "4e2d7e0b-27d1-4634-e20a-89ecbe917a5a"
      },
      "source": [
        "chuoi_list=input(\"nhap cac gia tri vao tach nhau boi dau spacebar\").split(' ')\n",
        "print(chuoi_list)"
      ],
      "execution_count": 33,
      "outputs": [
        {
          "output_type": "stream",
          "name": "stdout",
          "text": [
            "nhap cac gia tri vao tach nhau boi dau spacebar5 6 2 31 2 3 \n",
            "['5', '6', '2', '31', '2', '3', '']\n"
          ]
        }
      ]
    },
    {
      "cell_type": "markdown",
      "metadata": {
        "id": "M-eAZRZT109i"
      },
      "source": [
        "Bài 5: Viết chương trình thực hiện các yêu cầu sau:\n",
        "- Nhập vào 1 danh sách các số nguyên từ bàn phím (Quá trình nhập dừng khi người dùng\n",
        "nhập vào 1 kí tự từ a đến z)\n",
        "- Hiển thị danh sách đó ra màn hình\n",
        "- Yêu cầu người dùng nhập vào một số nguyên N từ bàn phím\n",
        "Tìm kiếm vị trí xuất hiện đầu tiên của N trong danh sách và hiển thị ra màn hình (nếu không\n",
        "có thì thông báo không tìm thấy ra màn hình).\n",
        "- Tìm kiếm tất cả các vị trí xuất hiện của N trong danh sách và hiển thị ra màn hình. (Nếu\n",
        "không tìm thấy thì thông báo không tìm được ra màn hình)"
      ]
    },
    {
      "cell_type": "code",
      "metadata": {
        "colab": {
          "base_uri": "https://localhost:8080/"
        },
        "id": "MEVh-iUK15x6",
        "outputId": "8755986b-4eb9-48ca-eeec-3ba8119354ee"
      },
      "source": [
        "list1=[]\n",
        "for i in range(1,100):\n",
        "  nhap_so=(input(\"nhap cac so nguyen vao\"))\n",
        "  list1.append(nhap_so)\n",
        "  if str(nhap_so).lower().isalpha() == True:\n",
        "    break\n",
        "print(list1)\n",
        "nhap_so2=input(\"hay nhap so nguyen vao ban phim\")\n",
        "print(f\"so nay xuat hien lan thu nhat o vi tri:{list1.index(nhap_so2)}\")\n",
        "#valueerror?, doan neu error em chịu#\n",
        "nhap_so3=input(\"hay nhap so nguyen vao ban phim\")\n",
        "list2=[]\n",
        "for j in range(0,len(list1)):\n",
        "  if list1[j]==nhap_so3:\n",
        "    list2.append(list1.index(nhap_so3))\n",
        "#code sai roi#\n"
      ],
      "execution_count": 92,
      "outputs": [
        {
          "output_type": "stream",
          "name": "stdout",
          "text": [
            "nhap cac so nguyen vao6\n",
            "nhap cac so nguyen vao7\n",
            "nhap cac so nguyen vao8\n",
            "nhap cac so nguyen vao9\n",
            "nhap cac so nguyen vao7\n",
            "nhap cac so nguyen vao6\n",
            "nhap cac so nguyen vao3\n",
            "nhap cac so nguyen vao4\n",
            "nhap cac so nguyen vao5\n",
            "nhap cac so nguyen vao6\n",
            "nhap cac so nguyen vaog\n",
            "['6', '7', '8', '9', '7', '6', '3', '4', '5', '6', 'g']\n",
            "hay nhap so nguyen vao ban phim6\n",
            "so nay xuat hien lan thu nhat o vi tri:0\n",
            "hay nhap so nguyen vao ban phim6\n",
            "[0, 0, 0]\n"
          ]
        }
      ]
    }
  ]
}