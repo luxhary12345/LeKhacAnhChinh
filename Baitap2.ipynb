{
  "nbformat": 4,
  "nbformat_minor": 0,
  "metadata": {
    "colab": {
      "name": "Baitap2.ipynb",
      "provenance": [],
      "authorship_tag": "ABX9TyNx5zl7xd885amBMx23r1aA",
      "include_colab_link": true
    },
    "kernelspec": {
      "name": "python3",
      "display_name": "Python 3"
    },
    "language_info": {
      "name": "python"
    }
  },
  "cells": [
    {
      "cell_type": "markdown",
      "metadata": {
        "id": "view-in-github",
        "colab_type": "text"
      },
      "source": [
        "<a href=\"https://colab.research.google.com/github/luxhary12345/LeKhacAnhChinh/blob/master/Baitap2.ipynb\" target=\"_parent\"><img src=\"https://colab.research.google.com/assets/colab-badge.svg\" alt=\"Open In Colab\"/></a>"
      ]
    },
    {
      "cell_type": "code",
      "metadata": {
        "colab": {
          "base_uri": "https://localhost:8080/",
          "height": 183
        },
        "id": "ESJHehJ5Sikp",
        "outputId": "72892243-fe71-4188-b592-de0511963d74"
      },
      "source": [
        "#Cau1#\n",
        "list1=[1,2,7,6,2,5,\"asdaggasd\"]\n",
        "print(sum(list1))\n",
        "#ket qua se bi loi#\n",
        "\n"
      ],
      "execution_count": 1,
      "outputs": [
        {
          "output_type": "error",
          "ename": "TypeError",
          "evalue": "ignored",
          "traceback": [
            "\u001b[0;31m---------------------------------------------------------------------------\u001b[0m",
            "\u001b[0;31mTypeError\u001b[0m                                 Traceback (most recent call last)",
            "\u001b[0;32m<ipython-input-1-05a701246053>\u001b[0m in \u001b[0;36m<module>\u001b[0;34m()\u001b[0m\n\u001b[1;32m      1\u001b[0m \u001b[0mlist1\u001b[0m\u001b[0;34m=\u001b[0m\u001b[0;34m[\u001b[0m\u001b[0;36m1\u001b[0m\u001b[0;34m,\u001b[0m\u001b[0;36m2\u001b[0m\u001b[0;34m,\u001b[0m\u001b[0;36m7\u001b[0m\u001b[0;34m,\u001b[0m\u001b[0;36m6\u001b[0m\u001b[0;34m,\u001b[0m\u001b[0;36m2\u001b[0m\u001b[0;34m,\u001b[0m\u001b[0;36m5\u001b[0m\u001b[0;34m,\u001b[0m\u001b[0;34m\"asdaggasd\"\u001b[0m\u001b[0;34m]\u001b[0m\u001b[0;34m\u001b[0m\u001b[0;34m\u001b[0m\u001b[0m\n\u001b[0;32m----> 2\u001b[0;31m \u001b[0mprint\u001b[0m\u001b[0;34m(\u001b[0m\u001b[0msum\u001b[0m\u001b[0;34m(\u001b[0m\u001b[0mlist1\u001b[0m\u001b[0;34m)\u001b[0m\u001b[0;34m)\u001b[0m\u001b[0;34m\u001b[0m\u001b[0;34m\u001b[0m\u001b[0m\n\u001b[0m",
            "\u001b[0;31mTypeError\u001b[0m: unsupported operand type(s) for +: 'int' and 'str'"
          ]
        }
      ]
    },
    {
      "cell_type": "code",
      "metadata": {
        "colab": {
          "base_uri": "https://localhost:8080/"
        },
        "id": "XvMbmN0-TPAW",
        "outputId": "29261058-f257-4f26-ffe9-62034494ef4e"
      },
      "source": [
        "list1=[1,2,3,4,5,6]\n",
        "print(sum(list1))"
      ],
      "execution_count": 2,
      "outputs": [
        {
          "output_type": "stream",
          "name": "stdout",
          "text": [
            "21\n"
          ]
        }
      ]
    },
    {
      "cell_type": "code",
      "metadata": {
        "colab": {
          "base_uri": "https://localhost:8080/"
        },
        "id": "DL17BRnCTeAU",
        "outputId": "310f1ea1-856f-4cac-dbeb-3c90069d0589"
      },
      "source": [
        "#Cau2#\n",
        "#tuong tu nhu cau 1, neu trong list co string thi prod() se bi error#\n",
        "#lay thu vien tu numpy vi khong co built in prod() tu thu vien math)\n",
        "list1=[1,2,3,4,5,6]\n",
        "import numpy\n",
        "print(numpy.prod(list1))\n",
        "\n"
      ],
      "execution_count": 14,
      "outputs": [
        {
          "output_type": "stream",
          "name": "stdout",
          "text": [
            "720\n"
          ]
        }
      ]
    },
    {
      "cell_type": "code",
      "metadata": {
        "colab": {
          "base_uri": "https://localhost:8080/"
        },
        "id": "KVp_gnJtVUaT",
        "outputId": "0e43ba61-83b2-4b69-8bff-5365d505a435"
      },
      "source": [
        "#cau3#\n",
        "list1=[1,2,3,4,5,6]\n",
        "print(max(list1))\n",
        "#tuong tu nhu cau1 , string se gay error#"
      ],
      "execution_count": 16,
      "outputs": [
        {
          "output_type": "stream",
          "name": "stdout",
          "text": [
            "6\n"
          ]
        }
      ]
    },
    {
      "cell_type": "code",
      "metadata": {
        "colab": {
          "base_uri": "https://localhost:8080/"
        },
        "id": "NYyB3UbBVj9P",
        "outputId": "683f0c35-7c8e-45e8-c9f9-2233f392206b"
      },
      "source": [
        "#cau4#\n",
        "list1=[1,2,3,4,5,6]\n",
        "print(min(list1))\n",
        "#tuong tu nhu cau 1 m string gay error#\n"
      ],
      "execution_count": 17,
      "outputs": [
        {
          "output_type": "stream",
          "name": "stdout",
          "text": [
            "1\n"
          ]
        }
      ]
    },
    {
      "cell_type": "code",
      "metadata": {
        "colab": {
          "base_uri": "https://localhost:8080/"
        },
        "id": "RJLfvZThVtNi",
        "outputId": "45788a14-1658-480a-8001-08827c4fed99"
      },
      "source": [
        "#cau5#\n",
        "list1=[1,12,3,66,16,7]\n",
        "#thu tu tang dan#\n",
        "list1.sort()\n",
        "print(list1)\n",
        "#cau6#\n",
        "#thu tu giam dan#\n",
        "list1.reverse()\n",
        "print(list1)"
      ],
      "execution_count": 27,
      "outputs": [
        {
          "output_type": "stream",
          "name": "stdout",
          "text": [
            "[1, 3, 7, 12, 16, 66]\n",
            "[66, 16, 12, 7, 3, 1]\n"
          ]
        }
      ]
    },
    {
      "cell_type": "code",
      "metadata": {
        "colab": {
          "base_uri": "https://localhost:8080/"
        },
        "id": "-V2CWPG9XHHD",
        "outputId": "10e952eb-29c0-462a-e086-45be52f725aa"
      },
      "source": [
        "#cau7#\n",
        "list1=[1,12,3,66,16,7,\"asdasdaasd\",1321]\n",
        "print(len(list1))\n"
      ],
      "execution_count": 30,
      "outputs": [
        {
          "output_type": "stream",
          "name": "stdout",
          "text": [
            "8\n"
          ]
        }
      ]
    },
    {
      "cell_type": "code",
      "metadata": {
        "colab": {
          "base_uri": "https://localhost:8080/"
        },
        "id": "mtA06n6aXa4B",
        "outputId": "a2d09bcc-fa59-4bb8-c24d-8d9446a52544"
      },
      "source": [
        "#cau8#\n",
        "import random \n",
        "list1=[1,12,3,66,16,7,\"asdasdaasd\",1321]\n",
        "print(random.choice(list1))\n",
        "\n"
      ],
      "execution_count": 40,
      "outputs": [
        {
          "output_type": "stream",
          "name": "stdout",
          "text": [
            "1\n"
          ]
        }
      ]
    },
    {
      "cell_type": "code",
      "metadata": {
        "colab": {
          "base_uri": "https://localhost:8080/"
        },
        "id": "gxaXMNVYXpWk",
        "outputId": "39362d87-55d3-4a92-fb3c-b464c48895f9"
      },
      "source": [
        "#cau9#\n",
        "import random\n",
        "list1=[1,12,3,66,16,7,\"asdasdaasd\",1321]\n",
        "list2=[12315,\"asdagf\",5]\n",
        "list1.extend(list2)\n",
        "print(list1)"
      ],
      "execution_count": 41,
      "outputs": [
        {
          "output_type": "stream",
          "name": "stdout",
          "text": [
            "[1, 12, 3, 66, 16, 7, 'asdasdaasd', 1321, 12315, 'asdagf', 5]\n"
          ]
        }
      ]
    }
  ]
}