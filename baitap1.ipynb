{
  "nbformat": 4,
  "nbformat_minor": 0,
  "metadata": {
    "colab": {
      "name": "baitap1.ipynb",
      "provenance": [],
      "authorship_tag": "ABX9TyOc2oVc0jeHbmXNDmh09VKu",
      "include_colab_link": true
    },
    "kernelspec": {
      "name": "python3",
      "display_name": "Python 3"
    },
    "language_info": {
      "name": "python"
    }
  },
  "cells": [
    {
      "cell_type": "markdown",
      "metadata": {
        "id": "view-in-github",
        "colab_type": "text"
      },
      "source": [
        "<a href=\"https://colab.research.google.com/github/luxhary12345/LeKhacAnhChinh/blob/master/baitap1.ipynb\" target=\"_parent\"><img src=\"https://colab.research.google.com/assets/colab-badge.svg\" alt=\"Open In Colab\"/></a>"
      ]
    },
    {
      "cell_type": "code",
      "metadata": {
        "colab": {
          "base_uri": "https://localhost:8080/"
        },
        "id": "tmL5TqbgMWsz",
        "outputId": "13d76a68-89e7-402e-9c50-eeee249dc0fe"
      },
      "source": [
        "list1 = ['physics', 'chemistry', 1997, 2000]\n",
        "list2 = [1, 2, 3, 4, 5, 6, 7 ]\n",
        "print(\"list1[0]: \", list1[0])\n",
        "print(\"list2[1:5]: \", list2[1:5])\n",
        "\n",
        "list = ['physics', 'chemistry', 1997, 2000]\n",
        "print(\"Value available at index 2 : \")\n",
        "print(list[2])\n",
        "list[2] = 2001\n",
        "print(\"New value available at index 2 : \")\n",
        "print(list[2])\n",
        "\n",
        "list1 = ['physics', 'chemistry', 1997, 2000]\n",
        "print(list1)\n",
        "del list1[2]\n",
        "print(\"After deleting value at index 2 : \")\n",
        "print(list1)\n",
        "\n",
        "print(len([1,2,4,65,6,2]))\n",
        "print([1,2,3]+[4,5,6])\n",
        "print([\"Hello\"]*3)\n",
        "print(6 in [6,2,5,1,2,5])\n",
        "for z in [123,51231,651241]:\n",
        "  print(z)\n",
        "L = [\"Red\", \"Yellow\",\"Green\"]\n",
        "print(L[2])\n",
        "print(L[-1])\n",
        "print(L[1:])\n",
        "list1=[5,1,2,5,7,12315,123,6,78,1,2]\n",
        "len(list1)\n",
        "print(max(list1))\n",
        "min(list1)\n",
        "a=(\"jojo\",7,1,2,6,8,3,\"asd\")\n",
        "#print(list(a))#\n",
        "list1.append(123124)\n",
        "print(list1)\n",
        "print(list1.count(5))\n",
        "print(list1.index(5))\n",
        "b=[1]\n",
        "print(list1.insert(5,b))\n",
        "list1.remove(78)\n",
        "print(list1)\n",
        "list1.reverse \n",
        "print(list1)\n",
        "list1.sort\n",
        "print(list1)\n",
        "tup1 = ('physics', 'chemistry', 1997, 2000)\n",
        "tup2 = (1, 2, 3, 4, 5, 6, 7 )\n",
        "print(\"tup1[0]: \", tup1[0])\n",
        "print(\"tup2[1:5]: \", tup2[1:5])\n",
        "tup1 = (12, 34.56)\n",
        "tup2 = ('abc', 'xyz')\n",
        "tup3 = tup1 + tup2\n",
        "print(tup3)\n",
        "tup = ('physics', 'chemistry', 1997, 2000)\n",
        "dict = {'Name': 'Zara', 'Age': 7, 'Class': 'First'}\n",
        "print(\"dict['Name']: \", dict['Name'])\n",
        "print(\"dict['Age']: \", dict['Age'])\n",
        "\n",
        "dict = {'Name': 'Zara', 'Age': 7, 'Class': 'First'}\n",
        "dict['Age'] = 8; # update existing entry\n",
        "dict['School'] = \"DPS School\"; # Add new entry\n",
        "print(\"dict['Age']: \", dict['Age'])\n",
        "print(\"dict['School']: \", dict['School'])\n",
        "\n"
      ],
      "execution_count": 55,
      "outputs": [
        {
          "output_type": "stream",
          "name": "stdout",
          "text": [
            "list1[0]:  physics\n",
            "list2[1:5]:  [2, 3, 4, 5]\n",
            "Value available at index 2 : \n",
            "1997\n",
            "New value available at index 2 : \n",
            "2001\n",
            "['physics', 'chemistry', 1997, 2000]\n",
            "After deleting value at index 2 : \n",
            "['physics', 'chemistry', 2000]\n",
            "6\n",
            "[1, 2, 3, 4, 5, 6]\n",
            "['Hello', 'Hello', 'Hello']\n",
            "True\n",
            "123\n",
            "51231\n",
            "651241\n",
            "Green\n",
            "Green\n",
            "['Yellow', 'Green']\n",
            "12315\n",
            "[5, 1, 2, 5, 7, 12315, 123, 6, 78, 1, 2, 123124]\n",
            "2\n",
            "0\n",
            "None\n",
            "[5, 1, 2, 5, 7, [1], 12315, 123, 6, 1, 2, 123124]\n",
            "[5, 1, 2, 5, 7, [1], 12315, 123, 6, 1, 2, 123124]\n",
            "[5, 1, 2, 5, 7, [1], 12315, 123, 6, 1, 2, 123124]\n",
            "tup1[0]:  physics\n",
            "tup2[1:5]:  (2, 3, 4, 5)\n",
            "(12, 34.56, 'abc', 'xyz')\n",
            "dict['Name']:  Zara\n",
            "dict['Age']:  7\n",
            "dict['Age']:  8\n",
            "dict['School']:  DPS School\n"
          ]
        }
      ]
    },
    {
      "cell_type": "code",
      "metadata": {
        "colab": {
          "base_uri": "https://localhost:8080/"
        },
        "id": "4Hej_-bUbM4k",
        "outputId": "8eed3aad-a6d7-4230-b625-7a7081a19bc5"
      },
      "source": [
        "Set = set([\"a\", \"b\", \"c\"])\n",
        "print(\"Set: \")\n",
        "print(Set)\n",
        "# Adding element to the set\n",
        "Set.add(\"d\")\n",
        "print(\"\\nSet after adding: \")\n",
        "print(Set)"
      ],
      "execution_count": 57,
      "outputs": [
        {
          "output_type": "stream",
          "name": "stdout",
          "text": [
            "Set: \n",
            "{'c', 'b', 'a'}\n",
            "\n",
            "Set after adding: \n",
            "{'c', 'b', 'd', 'a'}\n"
          ]
        }
      ]
    },
    {
      "cell_type": "code",
      "metadata": {
        "colab": {
          "base_uri": "https://localhost:8080/"
        },
        "id": "oTxinMd8d5t1",
        "outputId": "505b353b-5f8a-41d8-8a15-92297125b518"
      },
      "source": [
        "people = {\"Jay\", \"Idrish\", \"Archi\"}\n",
        "print(\"People: \")\n",
        "print(people)\n",
        "people.add(\"Daxit\")\n",
        "for i in range(1, 6):\n",
        "  people.add(i)\n",
        "print(\"\\nSet after adding element:\", end = \" \")\n",
        "print(people)"
      ],
      "execution_count": 59,
      "outputs": [
        {
          "output_type": "stream",
          "name": "stdout",
          "text": [
            "People: \n",
            "{'Archi', 'Jay', 'Idrish'}\n",
            "\n",
            "Set after adding element: {1, 2, 3, 4, 5, 'Idrish', 'Archi', 'Jay', 'Daxit'}\n"
          ]
        }
      ]
    },
    {
      "cell_type": "code",
      "metadata": {
        "colab": {
          "base_uri": "https://localhost:8080/"
        },
        "id": "bF9XSi_ieyiD",
        "outputId": "eac5efe1-d830-40f5-a408-2004bb4de7d1"
      },
      "source": [
        "set1 = {1,2,3,4,5,6}\n",
        "print(\"Initial set\")\n",
        "print(set1)\n",
        "# This method will remove\n",
        "# all the elements of the set\n",
        "set1.clear()\n",
        "print(\"\\nSet after using clear() function\")\n",
        "print(set1)"
      ],
      "execution_count": 60,
      "outputs": [
        {
          "output_type": "stream",
          "name": "stdout",
          "text": [
            "Initial set\n",
            "{1, 2, 3, 4, 5, 6}\n",
            "\n",
            "Set after using clear() function\n",
            "set()\n"
          ]
        }
      ]
    },
    {
      "cell_type": "code",
      "metadata": {
        "colab": {
          "base_uri": "https://localhost:8080/"
        },
        "id": "G2FlUH-le0QC",
        "outputId": "490cc8a4-8964-4387-d077-e36189233d55"
      },
      "source": [
        "people = {\"Jay\", \"Idrish\", \"Archil\"}\n",
        "vampires = {\"Karan\", \"Arjun\"}\n",
        "dracula = {\"Deepanshu\", \"Raju\"}\n",
        "# Union using union() function\n",
        "population = people.union(vampires)\n",
        "print(\"Union using union() function\")\n",
        "print(population)\n",
        "# Union using \"|\" operator\n",
        "population = people|dracula\n",
        "print(\"\\nUnion using '|' operator\")\n",
        "print(population)"
      ],
      "execution_count": 61,
      "outputs": [
        {
          "output_type": "stream",
          "name": "stdout",
          "text": [
            "Union using union() function\n",
            "{'Karan', 'Idrish', 'Archil', 'Jay', 'Arjun'}\n",
            "\n",
            "Union using '|' operator\n",
            "{'Deepanshu', 'Raju', 'Idrish', 'Archil', 'Jay'}\n"
          ]
        }
      ]
    },
    {
      "cell_type": "code",
      "metadata": {
        "colab": {
          "base_uri": "https://localhost:8080/"
        },
        "id": "cuoFQlA9e7su",
        "outputId": "5feb345e-9f10-4be5-af62-32af12a05d9c"
      },
      "source": [
        "set1 = set()\n",
        "for i in range(5):\n",
        "  set1.add(i)\n",
        "set2 = {3, 4, 5, 6, 7, 8}\n",
        "# Intersection using intersection() function\n",
        "set3 = set1.intersection(set2)\n",
        "print(\"Intersection using intersection() function\")\n",
        "print(set3)\n",
        "# Intersection using \"&\" operator\n",
        "set3 = set1 & set2\n",
        "print(\"\\nIntersection using '&' operator\")\n",
        "print(set3)\n",
        "set1 = set()\n",
        "for i in range(5):\n",
        "set1.add(i)\n",
        "set2 = {3, 4, 5, 6, 7, 8}\n",
        "# Difference of two sets using difference() function\n",
        "set3 = set1.difference(set2)\n",
        "print(\" Difference of two sets using difference() function\")\n",
        "print(set3)\n",
        "# Difference of two sets using '-' operator\n",
        "set3 = set1 - set2\n",
        "print(\"\\nDifference of two sets using '-' operator\")\n",
        "print(set3)"
      ],
      "execution_count": 63,
      "outputs": [
        {
          "output_type": "stream",
          "name": "stdout",
          "text": [
            "Intersection using intersection() function\n",
            "{3, 4}\n",
            "\n",
            "Intersection using '&' operator\n",
            "{3, 4}\n"
          ]
        }
      ]
    },
    {
      "cell_type": "code",
      "metadata": {
        "id": "p3wj6yk8gP_J"
      },
      "source": [
        "DaysA = set([\"Mon\",\"Tue\",\"Wed\"])\n",
        "DaysB = set([\"Mon\",\"Tue\",\"Wed\",\"Thu\",\"Fri\",\"Sat\",\"Sun\"])\n",
        "SubsetRes = DaysA <= DaysB\n",
        "SupersetRes = DaysB >= DaysA\n",
        "print(SubsetRes)\n",
        "print(SupersetRes)"
      ],
      "execution_count": null,
      "outputs": []
    },
    {
      "cell_type": "code",
      "metadata": {
        "id": "pBZ171n_gQEV"
      },
      "source": [
        "DaysA = set([\"Mon\",\"Tue\",\"Wed\"])\n",
        "DaysB = set([\"Mon\",\"Tue\",\"Wed\",\"Thu\",\"Fri\",\"Sat\",\"Sun\"])\n",
        "SubsetRes = DaysA <= DaysB\n",
        "SupersetRes = DaysB >= DaysA\n",
        "print(SubsetRes)\n",
        "print(SupersetRes)"
      ],
      "execution_count": null,
      "outputs": []
    },
    {
      "cell_type": "code",
      "metadata": {
        "id": "ZDSU-lcXgT01"
      },
      "source": [
        "import time;\n",
        "localtime = time.asctime( time.localtime(time.time()) )\n",
        "print(\"Local current time :\", localtime)"
      ],
      "execution_count": null,
      "outputs": []
    },
    {
      "cell_type": "code",
      "metadata": {
        "id": "6UH5iO8ogWyN"
      },
      "source": [
        "import calendar\n",
        "cal = calendar.month(2008, 1)\n",
        "print(\"Here is the calendar:\")\n",
        "print(cal)"
      ],
      "execution_count": null,
      "outputs": []
    }
  ]
}