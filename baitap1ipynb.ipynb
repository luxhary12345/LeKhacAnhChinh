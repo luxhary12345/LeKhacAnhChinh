{
  "nbformat": 4,
  "nbformat_minor": 0,
  "metadata": {
    "colab": {
      "name": "baitap1ipynb",
      "provenance": [],
      "authorship_tag": "ABX9TyO9C87zpbUSzxFQz2FYIDOc",
      "include_colab_link": true
    },
    "kernelspec": {
      "name": "python3",
      "display_name": "Python 3"
    },
    "language_info": {
      "name": "python"
    }
  },
  "cells": [
    {
      "cell_type": "markdown",
      "metadata": {
        "id": "view-in-github",
        "colab_type": "text"
      },
      "source": [
        "<a href=\"https://colab.research.google.com/github/luxhary12345/LeKhacAnhChinh/blob/master/baitap1ipynb.ipynb\" target=\"_parent\"><img src=\"https://colab.research.google.com/assets/colab-badge.svg\" alt=\"Open In Colab\"/></a>"
      ]
    },
    {
      "cell_type": "markdown",
      "metadata": {
        "id": "UyZEN9tLZ9tK"
      },
      "source": [
        "Bài 1: Viết chương trình thực hiện các yêu cầu sau:\n",
        "- Nhập một chuỗi kí tự từ bàn phím\n",
        "- Nhập tên tập tin từ bàn phím\n",
        "- Lưu chuỗi ký tự ở trên vào tập tin.\n",
        "```\n",
        "\n"
      ]
    },
    {
      "cell_type": "code",
      "metadata": {
        "id": "DfQzarqLPXe6"
      },
      "source": [
        "a=input(\"enter string\")\n",
        "file1=input(\"enter file name\")\n",
        "file1 = open(file1.ipynb,\"w\")\n",
        "file1.write(a)\n",
        "file1.close()\n",
        "\n"
      ],
      "execution_count": null,
      "outputs": []
    },
    {
      "cell_type": "markdown",
      "metadata": {
        "id": "ZjpQxp_rZ-xY"
      },
      "source": [
        "Bài 2: Viết chương trình thực hiện các yêu cầu sau:\n",
        "- Nhập tên tập tin từ bàn phím\n",
        "- Đọc nội dung tập tin và in ra màn hình"
      ]
    },
    {
      "cell_type": "code",
      "metadata": {
        "id": "PgbNxHfXQ2Tm"
      },
      "source": [
        "file2=input(\"enter file name\")\n",
        "file2=open(file2.ipynb,\"r+\")\n",
        "content = file2.read()\n",
        "print(content)\n",
        "file2.close()"
      ],
      "execution_count": null,
      "outputs": []
    },
    {
      "cell_type": "markdown",
      "metadata": {
        "id": "A3-8UCWyZ_sI"
      },
      "source": [
        "Bài 3: Viết chương trình thực hiện các yêu cầu sau:\n",
        "- Nhập tên tập tin từ bàn phím\n",
        "- Nhập một chuỗi kí tự vào từ bàn phím\n",
        "- Ghi chuỗi kí tự này vào cuối tập tin ở trên\n",
        "```\n",
        "\n"
      ]
    },
    {
      "cell_type": "code",
      "metadata": {
        "id": "Ezha_KDVSrRZ"
      },
      "source": [
        "file3=input(\"enter file name\")\n",
        "file3=open(file3.ipynb,\"w\")\n",
        "a=input(\"enter string\")\n",
        "file3.write(a)\n",
        "file3.close()"
      ],
      "execution_count": null,
      "outputs": []
    },
    {
      "cell_type": "code",
      "metadata": {
        "id": "pNxbz9tWaA1_"
      },
      "source": [
        "Bài 4: Viết chương trình thực hiện các yêu cầu sau:\n",
        "- Đọc tập tin ở bài 3 và ghi kết quả ra màn hình"
      ],
      "execution_count": null,
      "outputs": []
    },
    {
      "cell_type": "code",
      "metadata": {
        "id": "pwmVsNdATvlW"
      },
      "source": [
        "file4 = open(file3, \"r\")\n",
        "print(file4.read())\n"
      ],
      "execution_count": null,
      "outputs": []
    },
    {
      "cell_type": "markdown",
      "metadata": {
        "id": "PlhSbYqFaAC0"
      },
      "source": [
        "Bài 5: Viết chương trình thực các yêu cầu sau:\n",
        "- Sinh ngẫu nhiên 1 danh sách gồm 1000 số nguyên trong khoảng từ [-1000, 1000]\n",
        "- Nhập tên tập tin từ bàn phím\n",
        "- Ghi danh sách trên vào tập tin theo quy tắc:\n",
        "o 10 số trên một hàng\n",
        "o Các số phân tách nhau bởi dấu phẩy (,)\n",
        "- Đọc nội dung tập tin ở trên và in ra màn hình theo quy tắc:\n",
        "o 10 số trên một hàng\n",
        "o Các số phan tách nhau bởi dấu tab."
      ]
    },
    {
      "cell_type": "code",
      "metadata": {
        "id": "Kv-u1WYCUji4"
      },
      "source": [
        "import random\n",
        "list1=[]\n",
        "for i in range (1000):\n",
        "  list1.append(random.randint(-1000,1001))\n",
        "file5=input(\"enter file name\")\n",
        "file5=open(file5.ipnb,\"r+\")\n",
        "counter = 0\n",
        "for j in range(len(list1)):\n",
        "  counter += 1\n",
        "  print(list1[j]+\",\", end=(\" \" if counter < 10 else \"\\n\"))\n",
        "  if counter == 10:\n",
        "    counter = 0\n",
        "content = file5.read()\n",
        "print(content)\n",
        "file5.close()\n",
        "\n",
        "file6=open(file5,\"r\")\n",
        "filelist=file6.read()\n",
        "while filelist !=\"\":\n",
        "  file6=filelist.split(\",\")\n",
        "  file7=\"\\t\".join(file6)\n",
        "print(file7)\n",
        "file6.close()\n"
      ],
      "execution_count": null,
      "outputs": []
    }
  ]
}