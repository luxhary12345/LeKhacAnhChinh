{
  "nbformat": 4,
  "nbformat_minor": 0,
  "metadata": {
    "colab": {
      "name": "Baitap.ipynb",
      "provenance": [],
      "authorship_tag": "ABX9TyN8dR+7eT91tNBYNNl31ny2",
      "include_colab_link": true
    },
    "kernelspec": {
      "name": "python3",
      "display_name": "Python 3"
    },
    "language_info": {
      "name": "python"
    }
  },
  "cells": [
    {
      "cell_type": "markdown",
      "metadata": {
        "id": "view-in-github",
        "colab_type": "text"
      },
      "source": [
        "<a href=\"https://colab.research.google.com/github/luxhary12345/LeKhacAnhChinh/blob/master/Baitap.ipynb\" target=\"_parent\"><img src=\"https://colab.research.google.com/assets/colab-badge.svg\" alt=\"Open In Colab\"/></a>"
      ]
    },
    {
      "cell_type": "code",
      "metadata": {
        "colab": {
          "base_uri": "https://localhost:8080/"
        },
        "id": "06PNll_EqEGX",
        "outputId": "fd1bc7cd-db09-4b94-a49b-72755564fcc5"
      },
      "source": [
        "#tao bien x rong#\n",
        "x=[]\n",
        "#them 18 vao x#\n",
        "x.append(18)\n",
        "#them hue vao x#\n",
        "x.append(\"hue\")\n",
        "#tao y voi cac phan tu#\n",
        "y=[12, 45, -1, -0.56, \"abc\"]\n",
        "#them list y vao list x#\n",
        "x.extend(y)\n",
        "#in ra x#\n",
        "print(x)\n",
        "#in ra phan tu dau va cuoi cua x#\n",
        "print(x[0],x[len(x)-1])\n",
        "#in ra phan tu thu 1 den thu 5 cua x#\n",
        "for i in range(0,5):\n",
        "  print(x[i])\n",
        "#in ra phan tu thu 3 den cuoi cung list x#\n",
        "for i in range(2,len(x)):\n",
        "  print(x[i])\n"
      ],
      "execution_count": 39,
      "outputs": [
        {
          "output_type": "stream",
          "name": "stdout",
          "text": [
            "[18, 'hue', 12, 45, -1, -0.56, 'abc']\n",
            "18 abc\n",
            "18\n",
            "hue\n",
            "12\n",
            "45\n",
            "-1\n",
            "12\n",
            "45\n",
            "-1\n",
            "-0.56\n",
            "abc\n"
          ]
        }
      ]
    },
    {
      "cell_type": "code",
      "metadata": {
        "colab": {
          "base_uri": "https://localhost:8080/"
        },
        "id": "j6JcjI3-zxSk",
        "outputId": "c9178086-9e09-4650-fad5-003594feb537"
      },
      "source": [
        "for i in range(0,5):\n",
        "  print(x[i])\n"
      ],
      "execution_count": 31,
      "outputs": [
        {
          "output_type": "stream",
          "name": "stdout",
          "text": [
            "1\n",
            "2\n",
            "3\n",
            "4\n",
            "5\n",
            "6\n",
            "7\n",
            "8\n"
          ]
        }
      ]
    }
  ]
}