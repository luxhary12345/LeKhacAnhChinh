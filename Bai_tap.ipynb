{
  "nbformat": 4,
  "nbformat_minor": 0,
  "metadata": {
    "colab": {
      "name": "Bai tap.ipynb",
      "provenance": [],
      "authorship_tag": "ABX9TyNmMbUGqr8kMdA8K+MKUDAn",
      "include_colab_link": true
    },
    "kernelspec": {
      "name": "python3",
      "display_name": "Python 3"
    },
    "language_info": {
      "name": "python"
    }
  },
  "cells": [
    {
      "cell_type": "markdown",
      "metadata": {
        "id": "view-in-github",
        "colab_type": "text"
      },
      "source": [
        "<a href=\"https://colab.research.google.com/github/luxhary12345/LeKhacAnhChinh/blob/master/Bai_tap.ipynb\" target=\"_parent\"><img src=\"https://colab.research.google.com/assets/colab-badge.svg\" alt=\"Open In Colab\"/></a>"
      ]
    },
    {
      "cell_type": "code",
      "metadata": {
        "colab": {
          "base_uri": "https://localhost:8080/"
        },
        "id": "CJSztEV1Wnba",
        "outputId": "8f872f6c-8e42-4164-b574-a883e594280c"
      },
      "source": [
        "tien_no=float(input(\"nhap so tien no\"))\n",
        "lai_suat_thang=float(input(\"nhap lai suat thang\"))\n",
        "so_nam_no=float(input(\"nhap so nam  no\"))\n",
        "print(\"khoan tien tra hang thang=\",round((tien_no*lai_suat_thang)/(1-(1/(1+lai_suat_thang)/so_nam_no/12))))\n"
      ],
      "execution_count": 3,
      "outputs": [
        {
          "output_type": "stream",
          "name": "stdout",
          "text": [
            "nhap so tien no67882\n",
            "nhap lai suat thang0.66\n",
            "nhap so nam  no2\n",
            "khoan tien tra hang thang= 45956\n"
          ]
        }
      ]
    },
    {
      "cell_type": "code",
      "metadata": {
        "colab": {
          "base_uri": "https://localhost:8080/"
        },
        "id": "Quse9vbeYhN5",
        "outputId": "93d79f3c-7b70-4d02-e890-20cbec7c039e"
      },
      "source": [
        "import math \n",
        "a=float(input(\"nhap gia tri toa do x cua a\"))\n",
        "b=float(input(\"nhap gia tri toa do y cua a\"))\n",
        "c=float(input(\"nhap gia tri toa do x cua b\"))\n",
        "d=float(input(\"nhap gia tri toa do y cua b\"))\n",
        "khoang_cach=math.sqrt((c-a)**2+(d-b)**2)\n",
        "print(round(khoang_cach))"
      ],
      "execution_count": 30,
      "outputs": [
        {
          "output_type": "stream",
          "name": "stdout",
          "text": [
            "nhap gia tri toa do x cua a1\n",
            "nhap gia tri toa do y cua a2\n",
            "nhap gia tri toa do x cua b3\n",
            "nhap gia tri toa do y cua b4\n",
            "3\n"
          ]
        }
      ]
    },
    {
      "cell_type": "code",
      "metadata": {
        "colab": {
          "base_uri": "https://localhost:8080/"
        },
        "id": "jyei6TblZcPm",
        "outputId": "1ddc8eeb-72d7-4e3a-8f16-b2d60c7ffd3d"
      },
      "source": [
        "import math\n",
        "print(math.sqrt(4))"
      ],
      "execution_count": 11,
      "outputs": [
        {
          "output_type": "stream",
          "name": "stdout",
          "text": [
            "2.0\n"
          ]
        }
      ]
    }
  ]
}