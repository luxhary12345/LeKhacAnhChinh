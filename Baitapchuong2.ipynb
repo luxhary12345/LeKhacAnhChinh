{
  "nbformat": 4,
  "nbformat_minor": 0,
  "metadata": {
    "colab": {
      "name": "Untitled2.ipynb",
      "provenance": [],
      "authorship_tag": "ABX9TyOkVu+beplxUnyKxxtXuF2Z",
      "include_colab_link": true
    },
    "kernelspec": {
      "name": "python3",
      "display_name": "Python 3"
    },
    "language_info": {
      "name": "python"
    }
  },
  "cells": [
    {
      "cell_type": "markdown",
      "metadata": {
        "id": "view-in-github",
        "colab_type": "text"
      },
      "source": [
        "<a href=\"https://colab.research.google.com/github/luxhary12345/LeKhacAnhChinh/blob/master/Baitapchuong2.ipynb\" target=\"_parent\"><img src=\"https://colab.research.google.com/assets/colab-badge.svg\" alt=\"Open In Colab\"/></a>"
      ]
    },
    {
      "cell_type": "code",
      "metadata": {
        "colab": {
          "base_uri": "https://localhost:8080/"
        },
        "id": "S63t6OgNfye9",
        "outputId": "ed78216c-b496-4947-db9b-60618c18a835"
      },
      "source": [
        "x=float(input(\"nhap thue thu nhap\"))\n",
        "print(format(x, \".2f\"))"
      ],
      "execution_count": null,
      "outputs": [
        {
          "output_type": "stream",
          "name": "stdout",
          "text": [
            "nhap thue thu nhap12234123.125125\n",
            "12234123\n"
          ]
        }
      ]
    },
    {
      "cell_type": "code",
      "metadata": {
        "colab": {
          "base_uri": "https://localhost:8080/"
        },
        "id": "iVkE6FzhgP65",
        "outputId": "f7841d98-265a-4c9e-b986-5f2d1cfa85c7"
      },
      "source": [
        "\n",
        "import time \n",
        "so_giay=time.time()\n",
        "#kim gio tru 5 do lay theo chuan gio UTC+7 cua Viet nam#\n",
        "kim_gio=format((so_giay//3600)%24-5,\".0f\")\n",
        "kim_phut=format((so_giay%3600)//60,\".0f\")\n",
        "kim_giay=format((so_giay%3600)%60,\".0f\")\n",
        "print(f\"gio hien tai la {kim_gio}:{kim_phut}:{kim_giay}\")"
      ],
      "execution_count": 89,
      "outputs": [
        {
          "output_type": "stream",
          "name": "stdout",
          "text": [
            "gio hien tai la 8:29:45\n"
          ]
        }
      ]
    },
    {
      "cell_type": "code",
      "metadata": {
        "id": "hyyrTdhIqnkY",
        "colab": {
          "base_uri": "https://localhost:8080/"
        },
        "outputId": "2db27214-68e6-4641-f7c1-bddfbe1b7c96"
      },
      "source": [
        "#bai tap lap trinh chuong 2#\n",
        "#bai1#\n",
        "a=int(input(\"nhap a\"))\n",
        "b=int(input(\"nhap b\"))\n",
        "tong=a+b\n",
        "print(tong)\n",
        "tich=a*b\n",
        "print(tich)\n",
        "hieu1=a-b \n",
        "print(hieu1)\n",
        "hieu2=b-a\n",
        "print(hieu2)\n",
        "chia_du=a%b \n",
        "print(chia_du)\n",
        "chia_nguyen=a//b\n",
        "print(chia_nguyen)"
      ],
      "execution_count": null,
      "outputs": [
        {
          "output_type": "stream",
          "name": "stdout",
          "text": [
            "nhap a7\n",
            "nhap b8\n",
            "15\n",
            "56\n",
            "-1\n",
            "1\n",
            "7\n"
          ]
        }
      ]
    },
    {
      "cell_type": "code",
      "metadata": {
        "colab": {
          "base_uri": "https://localhost:8080/"
        },
        "id": "e8h6HtO2uK-B",
        "outputId": "85511479-3444-4a4d-d118-14f767847ad9"
      },
      "source": [
        "#bai2#\n",
        "a=float(input(\"nhap a\"))\n",
        "b=float(input(\"nhap b\"))\n",
        "tong=a+b\n",
        "print(tong)\n",
        "tich=a*b\n",
        "print(tich)\n",
        "hieu=a-b\n",
        "print(hieu)\n",
        "thuong=a/b\n",
        "print(thuong)"
      ],
      "execution_count": null,
      "outputs": [
        {
          "output_type": "stream",
          "name": "stdout",
          "text": [
            "nhap a7\n",
            "nhap b2\n",
            "9.0\n",
            "14.0\n",
            "5.0\n",
            "3.5\n"
          ]
        }
      ]
    },
    {
      "cell_type": "code",
      "metadata": {
        "colab": {
          "base_uri": "https://localhost:8080/"
        },
        "id": "C8c0uqfPu24t",
        "outputId": "572e628e-3376-4020-a5d8-4d3f4e0840fe"
      },
      "source": [
        "#bai3#\n",
        "import math\n",
        "x=float(input(\"nhap so x \"))\n",
        "tuyet_doi=abs(x)\n",
        "print(tuyet_doi)\n",
        "phan_nguyen=format(x,\".0f\")\n",
        "print(phan_nguyen)\n",
        "y=float(input(\"nhap so y\"))\n",
        "luy_thua=x**y\n",
        "print(luy_thua)\n",
        "can_bac_hai= math.sqrt(x)\n",
        "print(can_bac_hai)"
      ],
      "execution_count": null,
      "outputs": [
        {
          "output_type": "stream",
          "name": "stdout",
          "text": [
            "nhap so x 7\n",
            "7.0\n",
            "7\n",
            "nhap so y2\n",
            "49.0\n",
            "2.6457513110645907\n"
          ]
        }
      ]
    },
    {
      "cell_type": "code",
      "metadata": {
        "colab": {
          "base_uri": "https://localhost:8080/"
        },
        "id": "SOuZoQbIwm8v",
        "outputId": "c8c16aab-2b05-42a8-961d-864f24a9b050"
      },
      "source": [
        "#bai4#\n",
        "a=float(input(\"nhap so a\"))\n",
        "b=float(input(\"nhap so b\"))\n",
        "if a>=b:\n",
        "  print(\"a>=b\")\n",
        "if a<=b:\n",
        "  print(\"a<=b\")\n",
        "if a>b:\n",
        "  print(\"a>b\")\n",
        "if a<b:\n",
        "  print(\"a<b\")\n",
        "if a!=b:\n",
        "  print(\"a khac b\")\n"
      ],
      "execution_count": null,
      "outputs": [
        {
          "output_type": "stream",
          "name": "stdout",
          "text": [
            "nhap so a7\n",
            "nhap so b5\n",
            "a>=b\n",
            "a>b\n",
            "a khac b\n"
          ]
        }
      ]
    },
    {
      "cell_type": "code",
      "metadata": {
        "colab": {
          "base_uri": "https://localhost:8080/"
        },
        "id": "QLAR9lqNxcZc",
        "outputId": "6712351c-5a60-4fc6-dd1b-cbdb246d9602"
      },
      "source": [
        "#bai5#\n",
        "a=input(\"nhap chuoi\")\n",
        "print(a.upper())\n",
        "print(a.lower())"
      ],
      "execution_count": null,
      "outputs": [
        {
          "output_type": "stream",
          "name": "stdout",
          "text": [
            "nhap chuoiASDASDhjhjdsahsd\n",
            "ASDASDHJHJDSAHSD\n",
            "asdasdhjhjdsahsd\n"
          ]
        }
      ]
    },
    {
      "cell_type": "code",
      "metadata": {
        "colab": {
          "base_uri": "https://localhost:8080/"
        },
        "id": "wV9e9-EGxzU7",
        "outputId": "ce4ef676-5f24-4f49-e250-c2896b176034"
      },
      "source": [
        "#bai6#\n",
        "print(\"alosooii\\noleiphidelo\\nhelloworldwd\\nsonofaa\")"
      ],
      "execution_count": null,
      "outputs": [
        {
          "output_type": "stream",
          "name": "stdout",
          "text": [
            "alosooii\n",
            "oleiphidelo\n",
            "helloworldwd\n",
            "sonofaa\n"
          ]
        }
      ]
    }
  ]
}