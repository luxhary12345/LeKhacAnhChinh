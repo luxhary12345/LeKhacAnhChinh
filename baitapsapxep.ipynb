{
  "nbformat": 4,
  "nbformat_minor": 0,
  "metadata": {
    "colab": {
      "name": "baitapsapxep.ipynb",
      "provenance": [],
      "authorship_tag": "ABX9TyMjhG1q3fPvuu2P2htasOe/",
      "include_colab_link": true
    },
    "kernelspec": {
      "name": "python3",
      "display_name": "Python 3"
    },
    "language_info": {
      "name": "python"
    }
  },
  "cells": [
    {
      "cell_type": "markdown",
      "metadata": {
        "id": "view-in-github",
        "colab_type": "text"
      },
      "source": [
        "<a href=\"https://colab.research.google.com/github/luxhary12345/LeKhacAnhChinh/blob/master/baitapsapxep.ipynb\" target=\"_parent\"><img src=\"https://colab.research.google.com/assets/colab-badge.svg\" alt=\"Open In Colab\"/></a>"
      ]
    },
    {
      "cell_type": "markdown",
      "metadata": {
        "id": "3UxFvCGehotV"
      },
      "source": [
        "Bài 1: Viết chương trình nhập vào từ bàn phím một danh sách gồm 10 số nguyên và thực hiện các\n",
        "yêu cầu sau:\n",
        "- Sắp xếp danh sách trên theo chiều tăng dần\n",
        "- In kết quả ra màn hình"
      ]
    },
    {
      "cell_type": "code",
      "metadata": {
        "colab": {
          "base_uri": "https://localhost:8080/"
        },
        "id": "_4kO3E0JepnJ",
        "outputId": "46e58666-d277-44c2-ff3a-291543dbcbaf"
      },
      "source": [
        "list1=[]\n",
        "for i in range(10):\n",
        "  a=int(input(\"input numbers for list\"))\n",
        "  list1.append(a)\n",
        "  for j in range(i):\n",
        "    if list1[j]>list1[i]:\n",
        "      list1[i],list1[j]=list1[j],list1[i]\n",
        "print(list1)\n"
      ],
      "execution_count": null,
      "outputs": [
        {
          "output_type": "stream",
          "name": "stdout",
          "text": [
            "input numbers for list6\n",
            "input numbers for list5\n",
            "input numbers for list3\n",
            "[3, 5, 6]\n"
          ]
        }
      ]
    },
    {
      "cell_type": "code",
      "metadata": {
        "id": "0pvrXoqGhtGH"
      },
      "source": [
        "Bài 2: Viết chương trình thực hiện các yêu cầu sau:\n",
        "- Xây dựng hàm có tên nhap_danh_sach_so_nguyen(n), trong đó:\n",
        "o Tham số đầu vào n là số phần tử của danh sách;\n",
        "o Hàm này trả về một danh sách gồm n số nguyên được nhập vào từ bàn phím\n",
        "- Xây dựng hàm có tên sap_xep_danh_sach(x), trong đó:\n",
        "o Tham số đầu vào x là một danh sách các số nguyên\n",
        "o Hàm này trả về một danh sách các số nguyên được sắp xếp theo chiều tăng dần\n",
        "- Chương trình chính (__main__) gọi thực thi 2 hàm nêu trên và in kết quả sắp xếp ra màn\n",
        "hình."
      ],
      "execution_count": null,
      "outputs": []
    },
    {
      "cell_type": "code",
      "metadata": {
        "colab": {
          "base_uri": "https://localhost:8080/"
        },
        "id": "4gsIiyeSh5eM",
        "outputId": "12ef1972-37e6-4ba6-bc8d-f9e757fffd19"
      },
      "source": [
        "def nhap_danh_sach_so_nguyen(n):\n",
        "  list1=[]\n",
        "  for i in range(n):\n",
        "    a=int(input(\"input list elements\"))\n",
        "    list1.append(a)\n",
        "  print(list1)\n",
        "def sap_xep_danh_sach(x):\n",
        "  for i in range(len(x)):\n",
        "    for j in range (i):\n",
        "      if x[j]>x[i]:\n",
        "        x[j],x[i]=x[i],x[j]\n",
        "  print(x)\n",
        "a=int(input(\"enter value for function 1:\"))\n",
        "b=input(\"enter integer list elements  for function 2:, seperated by a comma\").split(\",\")\n",
        "nhap_danh_sach_so_nguyen(a)\n",
        "sap_xep_danh_sach(b)\n",
        "  \n",
        "\n",
        "\n"
      ],
      "execution_count": 6,
      "outputs": [
        {
          "output_type": "stream",
          "name": "stdout",
          "text": [
            "enter value for function 1:6\n",
            "enter integer list elements  for function 2:, seperated by a comma4,2,5,6,7,8\n",
            "input list elements1\n",
            "input list elements4\n",
            "input list elements7\n",
            "input list elements5\n",
            "input list elements2\n",
            "input list elements5\n",
            "[1, 4, 7, 5, 2, 5]\n",
            "['2', '4', '5', '6', '7', '8']\n"
          ]
        }
      ]
    },
    {
      "cell_type": "code",
      "metadata": {
        "id": "Qp8-vREplL-0"
      },
      "source": [
        ""
      ],
      "execution_count": null,
      "outputs": []
    },
    {
      "cell_type": "markdown",
      "metadata": {
        "id": "0P_1ZuOHlNtq"
      },
      "source": [
        "Bài 3: Viết chương trình nhập vào từ bàn phím một danh sách các số thực, theo các yeu cầu sau:\n",
        "- Sau khi nhập mỗi số thực từ bàn phím, chương trình hỏi người dùng có muốn tiếp tục nhập\n",
        "không. Nếu người dùng gõ ký tự n hoặc N thì kết thúc quá trình nhập;\n",
        "- Sắp xếp danh sách các số thực tren theo chiều giảm dần;\n",
        "- In kết quả ra màn hình."
      ]
    },
    {
      "cell_type": "code",
      "metadata": {
        "colab": {
          "base_uri": "https://localhost:8080/"
        },
        "id": "F6kl3eQ2lP98",
        "outputId": "dad9efd7-dfd7-4e10-cea4-0d1daec56bc8"
      },
      "source": [
        "list1=[]\n",
        "while 1>0:\n",
        "  a=float(input(\"input floats\"))\n",
        "  list1.append(a)\n",
        "  b=input(\"continue or press N/n to stop\")\n",
        "  if b.lower()==\"n\":\n",
        "    break \n",
        "for i in range(len(list1)):\n",
        "  for j in range(i):\n",
        "    if list1[j]<list1[i]:\n",
        "      list1[j],list1[i]=list1[i],list1[j]\n",
        "print(list1)"
      ],
      "execution_count": null,
      "outputs": [
        {
          "output_type": "stream",
          "name": "stdout",
          "text": [
            "input floats6\n",
            "continue or press N/n to stopa\n",
            "input floats1\n",
            "continue or press N/n to stopa\n",
            "input floats2\n",
            "continue or press N/n to stopn\n",
            "[6.0, 2.0, 1.0]\n"
          ]
        }
      ]
    },
    {
      "cell_type": "markdown",
      "metadata": {
        "id": "V32r9aN8oXTv"
      },
      "source": [
        "Bài 4: Viết chương trình thực hiện các yêu cầu sau:\n",
        "- Xây dựng hàm nhap_danh_sach_so_thuc( ) thỏa mãn các yêu cầu sau:\n",
        "o Sau khi nhập mỗi số thực từ bàn phím, chương trình hỏi người dùng có muốn tiếp\n",
        "tục nhập không. Nếu người dùng gõ ký tự n hoặc N thì kết thúc quá trình nhập;\n",
        "o Hàm trả về danh sách các số thực đã nhập.\n",
        "- Xây dựng hàm sap_xep_danh_sach_so_thuc(x), với:\n",
        "o Tham số đầu vào x là một danh sách các số thực;\n",
        "o Hàm này trả về một danh sách các số thực được sắp xếp theo chiều giảm dần\n",
        "\n",
        "- Chương trình chính (__main__) gọi thực thi 2 hàm nêu trên và in kết quả sắp xếp ra màn\n",
        "hình."
      ]
    },
    {
      "cell_type": "code",
      "metadata": {
        "colab": {
          "base_uri": "https://localhost:8080/"
        },
        "id": "HdzV42ZCoW6a",
        "outputId": "90f959e8-f8ae-4b6f-c558-39fd2c6534de"
      },
      "source": [
        "def nhap_danh_sach_so_thuc( ):\n",
        "  list1=[]\n",
        "  while 1>0:\n",
        "    a=float(input(\"input floats\"))\n",
        "    list1.append(a)\n",
        "    b=input(\"continue or press N/n to stop\")\n",
        "    if b.lower()==\"n\":\n",
        "      break \n",
        "  print(list1)\n",
        "def sap_xep_danh_sach_so_thuc(x):\n",
        "  for i in range(len(x)):\n",
        "    for j in range(i):\n",
        "      if x[j]<x[i]:\n",
        "        x[j],x[i]=x[i],x[j]\n",
        "  print(x)\n",
        "x=input(\"enter float values for the list seperated by a comma\").split(\",\")\n",
        "nhap_danh_sach_so_thuc( )\n",
        "sap_xep_danh_sach_so_thuc(x)"
      ],
      "execution_count": 14,
      "outputs": [
        {
          "output_type": "stream",
          "name": "stdout",
          "text": [
            "enter float values for the list seperated by a comma6,4,2,3\n",
            "input floats5\n",
            "continue or press N/n to stopn\n",
            "[5.0]\n",
            "['2', '3', '4', '6']\n"
          ]
        }
      ]
    },
    {
      "cell_type": "code",
      "metadata": {
        "id": "Ux5aEeWru1pb"
      },
      "source": [
        ""
      ],
      "execution_count": null,
      "outputs": []
    },
    {
      "cell_type": "markdown",
      "metadata": {
        "id": "4RQ5dSZks2XS"
      },
      "source": [
        "Bài 5: Viết chương trình thực hiện các yêu cầu sau:\n",
        "- Sinh ngẫu nhiên 1 danh sách số nguyên gồm n phần tử. Trong đó, n được nhập vào từ bàn\n",
        "phím và số nguyên sinh ra nằm trong khoảng từ 0 đến max_value. Giá trị max_value được\n",
        "nhập vào từ bàn phím;\n",
        "- Hỏi người dùng lựa chọn sắp xếp danh sách trên theo chiều tăng dần hay giảm dần và sắp\n",
        "xếp danh sách theo lựa chọn của người dùng;\n",
        "- In kết quả sắp xếp ra màn hình."
      ]
    },
    {
      "cell_type": "code",
      "metadata": {
        "colab": {
          "base_uri": "https://localhost:8080/"
        },
        "id": "SuptDvC5r7R-",
        "outputId": "03e82b54-31cf-4dc9-f975-63c3a15c246f"
      },
      "source": [
        "import random\n",
        "n=int(input(\"enter the quantity of randomly generated numbers\"))\n",
        "max_value=int(input(\"enter the max value of the list\"))\n",
        "list1=[]\n",
        "for i in range(n):\n",
        "  list1.append(random.randint(0,max_value+1))\n",
        "question=input(\"enter A to sort list in ascending order, D to sort list in  descending order\").lower()\n",
        "if question==\"a\":\n",
        "  for i in range(len(list1)):\n",
        "    for j in range(i):\n",
        "      if list1[j]>list1[i]:\n",
        "        list1[j],list1[i]=list1[i],list1[j]\n",
        "elif question==\"d\":\n",
        "  for i in range(len(list1)):\n",
        "    for j in range(i):\n",
        "      if list1[j]<list1[i]:\n",
        "        list1[j],list1[i]=list1[i],list1[j]\n",
        "print(list1)"
      ],
      "execution_count": 18,
      "outputs": [
        {
          "output_type": "stream",
          "name": "stdout",
          "text": [
            "enter the quantity of randomly generated numbers8\n",
            "enter the max value of the list16\n",
            "enter A to sort list in ascending order, D to sort list in  descending ordera\n",
            "[2, 2, 4, 6, 12, 14, 14, 15]\n"
          ]
        }
      ]
    },
    {
      "cell_type": "markdown",
      "metadata": {
        "id": "_BWK8Q65s-dF"
      },
      "source": [
        "Bài 6: Viết chương trình thực hiện các yêu cầu sau:\n",
        "- Xây dựng hàm sinh_ngau_nhien_danh_sach_so_nguyen( ), thực hiện các thao tác sau:\n",
        "o Sinh ngẫu nhiên 1 danh sách số nguyên gồm n phần tử;\n",
        "o Trong đó, n được nhập vào từ bàn phím và số nguyên sinh ra nằm trong khoảng từ\n",
        "0 đến max_value;\n",
        "o Giá trị max_value được nhập vào từ bàn phím;\n",
        "o Hàm này trả về danh sách các số nguyên được sinh ngẫu nhiên ở trên.\n",
        "- Xây dựng hàm sap_xep_giam_dan(x), trong đó:\n",
        "o Tham số đầu vào x là một danh sách các số nguyên;\n",
        "o Hàm này trả về một danh sách các số nguyên được sắp xếp theo chiều giảm dần.\n",
        "- Xây dựng hàm sap_xep_tang_dan(x), trong đó:\n",
        "o Tham số đầu vào x là một danh sách các số nguyên;\n",
        "o Hàm này trả về một danh sách các số nguyên được sắp xếp theo chiều tăng dần.\n",
        "- Chương trình chính (__main__) gọi thực hiện các hàm trên và in kết quả ra màn hình."
      ]
    },
    {
      "cell_type": "code",
      "metadata": {
        "colab": {
          "base_uri": "https://localhost:8080/"
        },
        "id": "VTTpre75r8Zi",
        "outputId": "20f17148-1dc8-4d3d-9a4e-e8017eb0e9dc"
      },
      "source": [
        "import random \n",
        "def sinh_ngau_nhien_danh_sach_so_nguyen( ):\n",
        "  n=int(input(\"enter the quantity of randomly generated numbers\"))\n",
        "  max_value=int(input(\"enter the max value of the list\"))\n",
        "  list1=[]\n",
        "  for i in range(n):\n",
        "    list1.append(random.randint(0,max_value+1))\n",
        "  print(list1)\n",
        "def sap_xep_giam_dan(x):\n",
        "  for i in range(len(x)):\n",
        "    for j in range(i):\n",
        "      if x[j]<x[i]:\n",
        "        x[j],x[i]=x[i],x[j]\n",
        "  print(x)\n",
        "def sap_xep_tang_dan(x):\n",
        "  for i in range(len(x)):\n",
        "    for j in range(i):\n",
        "      if x[j]>x[i]:\n",
        "        x[j],x[i]=x[i],x[j]\n",
        "  print(x)\n",
        "x=input(\"enter integer values for the list seperated by a comma\").split(\",\")\n",
        "sinh_ngau_nhien_danh_sach_so_nguyen( )\n",
        "sap_xep_giam_dan(x)\n",
        "sap_xep_tang_dan(x)"
      ],
      "execution_count": 19,
      "outputs": [
        {
          "output_type": "stream",
          "name": "stdout",
          "text": [
            "enter integer values for the list seperated by a comma6,4,3,5,6,7,2,3,1,4,5\n",
            "enter the quantity of randomly generated numbers8\n",
            "enter the max value of the list15\n",
            "[2, 16, 10, 15, 10, 6, 0, 7]\n",
            "['7', '6', '6', '5', '5', '4', '4', '3', '3', '2', '1']\n",
            "['7', '6', '6', '5', '5', '4', '4', '3', '3', '2', '1']\n"
          ]
        }
      ]
    }
  ]
}