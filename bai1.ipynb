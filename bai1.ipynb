{
  "nbformat": 4,
  "nbformat_minor": 0,
  "metadata": {
    "colab": {
      "name": "bai1.ipynb",
      "provenance": [],
      "authorship_tag": "ABX9TyOqJWGU1QpuROvFuOkn3m/q",
      "include_colab_link": true
    },
    "kernelspec": {
      "name": "python3",
      "display_name": "Python 3"
    },
    "language_info": {
      "name": "python"
    }
  },
  "cells": [
    {
      "cell_type": "markdown",
      "metadata": {
        "id": "view-in-github",
        "colab_type": "text"
      },
      "source": [
        "<a href=\"https://colab.research.google.com/github/luxhary12345/LeKhacAnhChinh/blob/master/bai1.ipynb\" target=\"_parent\"><img src=\"https://colab.research.google.com/assets/colab-badge.svg\" alt=\"Open In Colab\"/></a>"
      ]
    },
    {
      "cell_type": "markdown",
      "metadata": {
        "id": "9A4PpDExs_aA"
      },
      "source": [
        "Bài 1: Hãy xây dựng một hàm thực hiện các yêu cầu sau:\n",
        "- Xuất ra màn hình câu thông báo: “Lập trình Java 2021”\n",
        "- Hàm không có giá trị trả về\n",
        "Từ chương trình chính, gọi thực hiện hàm này.\n"
      ]
    },
    {
      "cell_type": "code",
      "metadata": {
        "id": "WBYHScbrs4Rw"
      },
      "source": [
        "def java():\n",
        "  print(\"lap trinh java 2021\")\n",
        "def main():\n",
        "  java()"
      ],
      "execution_count": null,
      "outputs": []
    },
    {
      "cell_type": "markdown",
      "metadata": {
        "id": "x_-g94GMtHsY"
      },
      "source": [
        "Bài 2: Hãy xây dựng một hàm thực hiện các yêu cầu sau:\n",
        "- Nhận một tham số đầu vào là một chuỗi ký tự (kiểu String)\n",
        "- Xuất ra màn hình nội dung chuỗi được truyền vào từ tham số\n",
        "- Hàm không có giá trị trả về\n",
        "Từ chương trình chính gọi thực hiện hàm này"
      ]
    },
    {
      "cell_type": "code",
      "metadata": {
        "colab": {
          "base_uri": "https://localhost:8080/"
        },
        "id": "1E3a7GgQtGD6",
        "outputId": "eda949ec-32e9-402d-e6fd-fc1cb114b839"
      },
      "source": [
        "def nhap_string(chuoi):\n",
        "  chuoi=input(\"nhap chuoi\")\n",
        "  print(chuoi)\n",
        "def main():\n",
        "  nhap_string(chuoi)"
      ],
      "execution_count": null,
      "outputs": [
        {
          "output_type": "stream",
          "name": "stdout",
          "text": [
            "nhap chuoiasdasd\n",
            "asdasd\n",
            "None\n"
          ]
        }
      ]
    },
    {
      "cell_type": "markdown",
      "metadata": {
        "id": "KrPphkwntrk8"
      },
      "source": [
        "Bài 3: Hãy viết chương trình thực hiện các yêu cầu sau:\n",
        "- Nhập một số nguyên dương n từ bàn phím (kiểm tra nếu không đạt yêu cầu thì bắt nhập\n",
        "lại)\n",
        "- Nhập một thông điệp từ bàn phím\n",
        "- Gọi thực hiện hàm ở Bài 2 n lần với thông điệp được truyền làm tham số đầu vào của hàm."
      ]
    },
    {
      "cell_type": "code",
      "metadata": {
        "colab": {
          "base_uri": "https://localhost:8080/",
          "height": 265
        },
        "id": "cJbyKvRHtq7H",
        "outputId": "0d68eb4e-8a39-45ff-eb43-7abff8473ef6"
      },
      "source": [
        "def nhap_string(chuoi):\n",
        "  chuoi=input(\"nhap chuoi\")\n",
        "  return print(chuoi)\n",
        "\n",
        "while True:\n",
        "  try:\n",
        "    a =input(\"nhap so vao \")\n",
        "    b=bool(a.isdigit())\n",
        "    if b==True and int(a)>0:\n",
        "      c=input(\" nhap thong diep\")\n",
        "      break  \n",
        "    else:\n",
        "      print(\"nhap sai, nhap lai.\")      \n",
        "  except ValueError:\n",
        "    print(\"nhap sai, nhap lai\")\n",
        "nhap_string(chuoi)\n",
        "for i in range(1, int(a)+1):\n",
        "  print(nhap_string(chuoi=c))\n",
        "  #sai yeu cau thu 3 cua bai 3#"
      ],
      "execution_count": 11,
      "outputs": [
        {
          "name": "stdout",
          "output_type": "stream",
          "text": [
            "nhap so vao 6\n",
            " nhap thong diepasd\n"
          ]
        },
        {
          "output_type": "error",
          "ename": "NameError",
          "evalue": "ignored",
          "traceback": [
            "\u001b[0;31m---------------------------------------------------------------------------\u001b[0m",
            "\u001b[0;31mNameError\u001b[0m                                 Traceback (most recent call last)",
            "\u001b[0;32m<ipython-input-11-382d8397b751>\u001b[0m in \u001b[0;36m<module>\u001b[0;34m()\u001b[0m\n\u001b[1;32m     14\u001b[0m   \u001b[0;32mexcept\u001b[0m \u001b[0mValueError\u001b[0m\u001b[0;34m:\u001b[0m\u001b[0;34m\u001b[0m\u001b[0;34m\u001b[0m\u001b[0m\n\u001b[1;32m     15\u001b[0m     \u001b[0mprint\u001b[0m\u001b[0;34m(\u001b[0m\u001b[0;34m\"nhap sai, nhap lai\"\u001b[0m\u001b[0;34m)\u001b[0m\u001b[0;34m\u001b[0m\u001b[0;34m\u001b[0m\u001b[0m\n\u001b[0;32m---> 16\u001b[0;31m \u001b[0mnhap_string\u001b[0m\u001b[0;34m(\u001b[0m\u001b[0mchuoi\u001b[0m\u001b[0;34m)\u001b[0m\u001b[0;34m\u001b[0m\u001b[0;34m\u001b[0m\u001b[0m\n\u001b[0m\u001b[1;32m     17\u001b[0m \u001b[0;32mfor\u001b[0m \u001b[0mi\u001b[0m \u001b[0;32min\u001b[0m \u001b[0mrange\u001b[0m\u001b[0;34m(\u001b[0m\u001b[0;36m1\u001b[0m\u001b[0;34m,\u001b[0m \u001b[0mint\u001b[0m\u001b[0;34m(\u001b[0m\u001b[0ma\u001b[0m\u001b[0;34m)\u001b[0m\u001b[0;34m+\u001b[0m\u001b[0;36m1\u001b[0m\u001b[0;34m)\u001b[0m\u001b[0;34m:\u001b[0m\u001b[0;34m\u001b[0m\u001b[0;34m\u001b[0m\u001b[0m\n\u001b[1;32m     18\u001b[0m   \u001b[0mnhap_string\u001b[0m\u001b[0;34m(\u001b[0m\u001b[0mchuoi\u001b[0m\u001b[0;34m=\u001b[0m\u001b[0mc\u001b[0m\u001b[0;34m)\u001b[0m\u001b[0;34m\u001b[0m\u001b[0;34m\u001b[0m\u001b[0m\n",
            "\u001b[0;31mNameError\u001b[0m: name 'chuoi' is not defined"
          ]
        }
      ]
    },
    {
      "cell_type": "markdown",
      "metadata": {
        "id": "g11EXlQjBL-Q"
      },
      "source": [
        ""
      ]
    },
    {
      "cell_type": "markdown",
      "metadata": {
        "id": "fNoJkYnY3R4c"
      },
      "source": [
        ""
      ]
    },
    {
      "cell_type": "markdown",
      "metadata": {
        "id": "7J4KaljZ7nyM"
      },
      "source": [
        "Bài 4: Hãy viết chương trình thực hiện các yêu cầu sau:\n",
        "- Xây dựng hàm giải phương trình bậc 1 (ax + b = 0), với hệ số a & b được truyền vào qua\n",
        "thông số của hàm.\n",
        "- Chương trình chính nhận các thông số a, b từ bàn phím\n",
        "- Chương trình chính gọi hàm giải phương trình bậc 1 nêu trên"
      ]
    },
    {
      "cell_type": "code",
      "metadata": {
        "id": "h3vHE9PY7ryu"
      },
      "source": [
        "def ph_trinh(a,b):\n",
        "  a=float(input(\"nhap so a\"))\n",
        "  b=float(input(\"nhap so b\"))\n",
        "  x=0\n",
        "  if a==0 and b==0:\n",
        "    print(\"vo so nghiem\")\n",
        "  elif a==0 and b!=0:\n",
        "    print(\"vo nghiem\")\n",
        "  else:\n",
        "    x=-b/a\n",
        "     \n",
        "\n",
        "def main():\n",
        "  a=float(input(\"nhap a:\"))\n",
        "  b=float(input(\"nhap b\"))\n",
        "  ph_trinh(a,b)\n"
      ],
      "execution_count": 42,
      "outputs": []
    },
    {
      "cell_type": "markdown",
      "metadata": {
        "id": "aNH-S-_r3TiO"
      },
      "source": [
        "Bài 5: Hãy viết chương trình thực hiện các yêu cầu sau:\n",
        "- Xây dựng hàm giải phương trình bậc (ax2 + bx + c = 0), với hệ số a & b & c được truyền\n",
        "vào qua thông số của hàm.\n",
        "- Chương trình chính nhận các thông số a, b & c từ bàn phím\n",
        "- Chương trình chính gọi hàm giải phương trình bậc 2 nêu trên"
      ]
    },
    {
      "cell_type": "code",
      "metadata": {
        "colab": {
          "base_uri": "https://localhost:8080/"
        },
        "id": "4Y7a5hjz3RJr",
        "outputId": "93f784de-c12f-4b9b-fc39-109ccbe05bed"
      },
      "source": [
        "from math import  sqrt\n",
        "def ph_trinh2(a,b,c):\n",
        "  a=float(input(\"nhap a\"))\n",
        "  b=float(input(\"nhap b\"))\n",
        "  c=float(input(\"nhap c\"))\n",
        "  d=b*b-4*a*c\n",
        "  if a==0:\n",
        "    ph_trinh(b,c)\n",
        "  elif d>0:\n",
        "    print(\"phuong trinh co 2 nghiem phan biet x1=\",(-b+sqrt(d))/(2*a)),\"x2=\",(-b-sqrt(d)/(2*a))\n",
        "  elif d==0:\n",
        "    print(\"phuong trinh co nghiem kep x1=x2=\",-b/(2*a))\n",
        "  elif d<0:\n",
        "    print(\"phuong trinh vo nghiem\")\n",
        "def main():\n",
        "  a=float(input(\"nhap a\"))\n",
        "  b=float(input(\"nhap b\"))\n",
        "  c=float(input(\"nhap c\"))\n",
        "  ph_trinh2(a,b,c)"
      ],
      "execution_count": 28,
      "outputs": [
        {
          "output_type": "stream",
          "name": "stdout",
          "text": [
            "nhap a4\n",
            "nhap b5\n",
            "nhap c2\n",
            "phuong trinh vo nghiem\n"
          ]
        }
      ]
    },
    {
      "cell_type": "markdown",
      "metadata": {
        "id": "A1H3sghS-DsE"
      },
      "source": [
        "Bài 6: Hãy viết chương trình thực hiện các yêu cầu sau:\n",
        "\n",
        "- Cho người dùng lựa chọn giải phương trình bậc 1 hay bậc 2 bằng cách nhập số (1 hay 2)\n",
        "từ bàn phím\n",
        "- Nếu người dùng chọn giải phương trình bậc 1, thì thực hiện các bước như Bài 4\n",
        "- Nếu người dùng chọn giải phương trình bậc 2, thì thực hiện các bước như Bài 5"
      ]
    },
    {
      "cell_type": "code",
      "metadata": {
        "colab": {
          "base_uri": "https://localhost:8080/"
        },
        "id": "iORR-91f-CRz",
        "outputId": "79d51dfa-4ef2-494c-e536-888c1f55ba76"
      },
      "source": [
        "lua_chon=int(input(\"nhap so 1 de giai phtrinh bac 1 hoac 2  de giai phuong trinh bac 2\"))\n",
        "if lua_chon==1:\n",
        "  ph_trinh(a,b)\n",
        "elif lua_chon==2:\n",
        "  ph_trinh2(a,b,c)\n",
        "#phuong trinh bac 1  bi sai#"
      ],
      "execution_count": 43,
      "outputs": [
        {
          "name": "stdout",
          "output_type": "stream",
          "text": [
            "nhap so 1 de giai phtrinh bac 1 hoac 2  de giai phuong trinh bac 21\n",
            "nhap so a5\n",
            "nhap so b2\n"
          ]
        }
      ]
    },
    {
      "cell_type": "markdown",
      "metadata": {
        "id": "gUu5Iv0mBQnN"
      },
      "source": [
        "Bài 7: Viết chương trình thực hiện các yêu cầu sau:\n",
        "- Thực hiện yêu cầu như bài 6\n",
        "- Sau khi thực hiện xong cho người dùng lựa chọn tiếp tục thực hiện lại hay kết thúc chương\n",
        "trình"
      ]
    },
    {
      "cell_type": "code",
      "metadata": {
        "colab": {
          "base_uri": "https://localhost:8080/"
        },
        "id": "TuKfSMSfBRbz",
        "outputId": "1c59ce30-0d1a-4d4b-f8ad-8740239452e5"
      },
      "source": [
        "#code chi chay dc phuong trinh 2 an#\n",
        "while True:\n",
        "  lua_chon=int(input(\"nhap so 1 de giai phtrinh bac 1 hoac 2  de giai phuong trinh bac 2\"))\n",
        "  if lua_chon==1:\n",
        "    ph_trinh(a,b)\n",
        "  elif lua_chon==2:\n",
        "    ph_trinh2(a,b,c)\n",
        "  chon=input(\"tiep tuc hay dung?\")\n",
        "  if chon==\"dung\": \n",
        "    print(\"wowwowwow\")\n",
        "    break\n",
        "  \n"
      ],
      "execution_count": 46,
      "outputs": [
        {
          "output_type": "stream",
          "name": "stdout",
          "text": [
            "nhap so 1 de giai phtrinh bac 1 hoac 2  de giai phuong trinh bac 22\n",
            "nhap a4\n",
            "nhap b5\n",
            "nhap c2\n",
            "phuong trinh vo nghiem\n",
            "tiep tuc hay dung?dung\n",
            "wowwowwow\n"
          ]
        }
      ]
    }
  ]
}