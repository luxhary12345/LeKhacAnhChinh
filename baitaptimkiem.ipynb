{
  "nbformat": 4,
  "nbformat_minor": 0,
  "metadata": {
    "colab": {
      "name": "baitaptimkiem.ipynb",
      "provenance": [],
      "authorship_tag": "ABX9TyO2KJx01ZDSGMfPLC+fLqby",
      "include_colab_link": true
    },
    "kernelspec": {
      "name": "python3",
      "display_name": "Python 3"
    },
    "language_info": {
      "name": "python"
    }
  },
  "cells": [
    {
      "cell_type": "markdown",
      "metadata": {
        "id": "view-in-github",
        "colab_type": "text"
      },
      "source": [
        "<a href=\"https://colab.research.google.com/github/luxhary12345/LeKhacAnhChinh/blob/master/baitaptimkiem.ipynb\" target=\"_parent\"><img src=\"https://colab.research.google.com/assets/colab-badge.svg\" alt=\"Open In Colab\"/></a>"
      ]
    },
    {
      "cell_type": "markdown",
      "metadata": {
        "id": "1aIXiN6M7onX"
      },
      "source": [
        "Bài 1: Viết chương trình thực hiện các yêu cầu sau:\n",
        "- Sinh ngẫu nhiên 1 danh sách n số nguyên trong đoạn [a, b], với các thông số n, a và b được\n",
        "nhập vào từ bàn phím;\n",
        "- Nhập vào 1 số x từ bàn phím có giá trị trong đoạn [a, b];\n",
        "- Tìm kiếm x có xuất hiện trong danh sách trên hay không. Nếu có thì trả về vị trí xuất hiện\n",
        "đầu tiên trong danh sách. Ngược lại, thông báo không tìm thấy.\n",
        "\n",
        "\n",
        "`\n",
        "```\n",
        "\n"
      ]
    },
    {
      "cell_type": "code",
      "metadata": {
        "colab": {
          "base_uri": "https://localhost:8080/"
        },
        "id": "t1bBrD7w7hfS",
        "outputId": "3f44d140-c7b2-4246-cfd8-02ff4a108acb"
      },
      "source": [
        "import random\n",
        "danh_sach=[]\n",
        "n=int(input(\"nhap n\"))\n",
        "a=float(input(\"nhap a\"))\n",
        "b=float(input(\"nhap b\"))\n",
        "for i in range(n):\n",
        "  danh_sach.append(random.randint(a, b))\n",
        "print(danh_sach)\n",
        "#em chua round duoc a va b #\n",
        "while 1>0:\n",
        "  x=float(input(\"nhap x\"))\n",
        "  if a<=x<=b:\n",
        "    break \n",
        "  else:\n",
        "    print(\"nhap sai, nhap lai\")\n",
        "gia_tri_dau=\"khong tim thay\"\n",
        "for g in range(0,n):\n",
        "  if x==danh_sach[g]:\n",
        "    gia_tri_dau=danh_sach.index(x)\n",
        "print(gia_tri_dau)\n"
      ],
      "execution_count": 64,
      "outputs": [
        {
          "output_type": "stream",
          "name": "stdout",
          "text": [
            "nhap n7\n",
            "nhap a1\n",
            "nhap b16\n",
            "[6, 10, 11, 5, 14, 12, 10]\n",
            "nhap x11\n",
            "2\n"
          ]
        }
      ]
    },
    {
      "cell_type": "markdown",
      "metadata": {
        "id": "qTOxHq3EDsg5"
      },
      "source": [
        "Bài 2: Viết chương trình thực hiện các yêu cầu sau:\n",
        "- Sinh ngẫu nhiên 1 danh sách n số nguyên trong đoạn [a, b], với các thông số n, a và b được\n",
        "nhập vào từ bàn phím;\n",
        "- Nhập vào 1 số x từ bàn phím có giá trị trong đoạn [a, b];\n",
        "- Tìm kiếm x có xuất hiện trong danh sách trên hay không theo yêu cầu sau:\n",
        "o Nếu có thì trả về vị trí xuất hiện đầu tiên trong danh sách và thông báo số bước lặp\n",
        "đã thực hiện để tìm được phần tử này.\n",
        "o Ngược lại, thông báo không tìm thấy.\n",
        "\n",
        "```\n",
        "# This is formatted as code\n",
        "```\n",
        "\n",
        "\n"
      ]
    },
    {
      "cell_type": "code",
      "metadata": {
        "colab": {
          "base_uri": "https://localhost:8080/"
        },
        "id": "KUVbTFPWDr-z",
        "outputId": "2f8b62f4-61a8-42db-c931-ac3ea28afbfc"
      },
      "source": [
        "import random\n",
        "danh_sach=[]\n",
        "n=int(input(\"nhap n\"))\n",
        "a=float(input(\"nhap a\"))\n",
        "b=float(input(\"nhap b\"))\n",
        "for i in range(n):\n",
        "  danh_sach.append(random.randint(a, b))\n",
        "print(danh_sach)\n",
        "#em chua round duoc a va b #\n",
        "while 1>0:\n",
        "  x=float(input(\"nhap x\"))\n",
        "  if a<=x<=b:\n",
        "    break \n",
        "  else:\n",
        "    print(\"nhap sai, nhap lai\")\n",
        "lap=0\n",
        "gia_tri_dau=\"khong tim thay\"\n",
        "for g in range(0,n):\n",
        "  lap+=1\n",
        "  if x==danh_sach[g]:\n",
        "    gia_tri_dau=danh_sach.index(x)\n",
        "    print(f\"so buoc lap la {lap}\")\n",
        "  \n",
        "  \n",
        "print(gia_tri_dau)"
      ],
      "execution_count": 71,
      "outputs": [
        {
          "output_type": "stream",
          "name": "stdout",
          "text": [
            "nhap n6\n",
            "nhap a1\n",
            "nhap b16\n",
            "[10, 7, 2, 13, 8, 3]\n",
            "nhap x7\n",
            "so buoc lap la 2\n",
            "1\n"
          ]
        }
      ]
    },
    {
      "cell_type": "markdown",
      "metadata": {
        "id": "0qwGg2YwPypv"
      },
      "source": [
        "Bài 3: Viết chương trình thực hiện các yêu cầu sau:\n",
        "- Bước 1: Sinh ngẫu nhiên 1 danh sách n số nguyên trong đoạn [a, b], với các thông số n, a\n",
        "và b được nhập vào từ bàn phím;\n",
        "- Bước 2: Nhập vào 1 số x từ bàn phím có giá trị trong đoạn [a, b];\n",
        "- Bước 3: Sắp xếp danh sách trên theo chiều tăng dần\n",
        "- Bước 4: Tìm kiếm x có xuất hiện trong danh sách trên hay không theo yêu cầu sau:\n",
        "o Nếu có thì trả về vị trí xuất hiện đầu tiên trong danh sách và thông báo số bước lặp\n",
        "đã thực hiện để tìm được phần tử này.\n",
        "o Ngược lại, thông báo không tìm thấy."
      ]
    },
    {
      "cell_type": "code",
      "metadata": {
        "colab": {
          "base_uri": "https://localhost:8080/"
        },
        "id": "-lOjk2TnP1Vu",
        "outputId": "7c95fbaf-ec40-4010-b012-2f639c98c53c"
      },
      "source": [
        "import random\n",
        "danh_sach=[]\n",
        "n=int(input(\"nhap n\"))\n",
        "a=float(input(\"nhap a\"))\n",
        "b=float(input(\"nhap b\"))\n",
        "for i in range(n):\n",
        "  danh_sach.append(random.randint(a, b))\n",
        "print(danh_sach)\n",
        "# em chua round duoc a va b #\n",
        "while 1>0:\n",
        "  x=float(input(\"nhap x\"))\n",
        "  if a<=x<=b:\n",
        "    break \n",
        "  else:\n",
        "    print(\"nhap sai, nhap lai\")\n",
        "for j in range(n):\n",
        "  for g in range(j):\n",
        "    if danh_sach[g]>danh_sach[j]:\n",
        "      danh_sach[g],danh_sach[j]=danh_sach[j],danh_sach[g]\n",
        "print(danh_sach)\n",
        "lap=0\n",
        "gia_tri_dau=\"khong tim thay\"\n",
        "for g in range(0,n):\n",
        "  lap+=1\n",
        "  if x==danh_sach[g]:\n",
        "    gia_tri_dau=danh_sach.index(x)\n",
        "    print(f\"so buoc lap la {lap}\")\n",
        "\n",
        "  \n",
        "print(gia_tri_dau)"
      ],
      "execution_count": 72,
      "outputs": [
        {
          "output_type": "stream",
          "name": "stdout",
          "text": [
            "nhap n6\n",
            "nhap a1\n",
            "nhap b16\n",
            "[6, 16, 6, 14, 8, 5]\n",
            "nhap x6\n",
            "[5, 6, 6, 8, 14, 16]\n",
            "so buoc lap la 2\n",
            "so buoc lap la 3\n",
            "1\n"
          ]
        }
      ]
    },
    {
      "cell_type": "markdown",
      "metadata": {
        "id": "s23yGB8GSP1R"
      },
      "source": [
        "Bài 4: Viết chương trình thực hiện các yêu cầu sau:\n",
        "- Bước 1: Sinh ngẫu nhiên 1 danh sách n số nguyên trong đoạn [a, b], với các thông số n, a\n",
        "và b được nhập vào từ bàn phím;\n",
        "- Bước 2: Nhập vào 1 số x từ bàn phím có giá trị trong đoạn [a, b];\n",
        "\n",
        "- Bước 3: Sắp xếp danh sách trên theo chiều tăng dần\n",
        "- Bước 4: Tìm kiếm x có xuất hiện trong danh sách trên hay không theo yêu cầu sau:\n",
        "o Nếu có thì trả về tất cả các vị trí xuất hiện trong danh sách và thông báo số bước\n",
        "lặp đã thực hiện để tìm được các phần tử này.\n",
        "o Ngược lại, thông báo không tìm thấy.\n"
      ]
    },
    {
      "cell_type": "code",
      "metadata": {
        "colab": {
          "base_uri": "https://localhost:8080/"
        },
        "id": "Qa3nF06GSUzL",
        "outputId": "308d75e6-49cb-47fc-dd45-3507361f53ab"
      },
      "source": [
        "import random\n",
        "danh_sach=[]\n",
        "n=int(input(\"nhap n\"))\n",
        "a=float(input(\"nhap a\"))\n",
        "b=float(input(\"nhap b\"))\n",
        "for i in range(n):\n",
        "  danh_sach.append(random.randint(a, b))\n",
        "print(danh_sach)\n",
        "# em chua round duoc a va b #\n",
        "while 1>0:\n",
        "  x=float(input(\"nhap x\"))\n",
        "  if a<=x<=b:\n",
        "    break \n",
        "  else:\n",
        "    print(\"nhap sai, nhap lai\")\n",
        "for j in range(n):\n",
        "  for g in range(j):\n",
        "    if danh_sach[g]>danh_sach[j]:\n",
        "      danh_sach[g],danh_sach[j]=danh_sach[j],danh_sach[g]\n",
        "print(danh_sach)\n",
        "lap=0\n",
        "ket_qua=\"\"\n",
        "danh_sach2=[]\n",
        "for t in range(0,n):\n",
        "  lap+=1\n",
        "  if danh_sach[t]==x:\n",
        "    danh_sach2.append(f\"indexla {t} so lan lap:{lap}\")\n",
        "  else:\n",
        "    t+=1\n",
        "    if t==n-1 and danh_sach2==[]:\n",
        "      ket_qua=\"khong tim thay\"\n",
        "print(danh_sach2)    \n",
        "print(ket_qua)\n",
        "\n"
      ],
      "execution_count": 75,
      "outputs": [
        {
          "output_type": "stream",
          "name": "stdout",
          "text": [
            "nhap n7\n",
            "nhap a1\n",
            "nhap b16\n",
            "[1, 14, 11, 9, 6, 11, 5]\n",
            "nhap x11\n",
            "[1, 5, 6, 9, 11, 11, 14]\n",
            "['indexla 4 so lan lap:5', 'indexla 5 so lan lap:6']\n",
            "\n"
          ]
        }
      ]
    },
    {
      "cell_type": "code",
      "metadata": {
        "id": "x6LFJPshWTt1"
      },
      "source": [
        ""
      ],
      "execution_count": null,
      "outputs": []
    }
  ]
}