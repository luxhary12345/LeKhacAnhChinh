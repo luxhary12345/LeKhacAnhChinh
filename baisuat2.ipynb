{
  "nbformat": 4,
  "nbformat_minor": 0,
  "metadata": {
    "colab": {
      "name": "Untitled6.ipynb",
      "provenance": [],
      "authorship_tag": "ABX9TyPsSB7if98hffObV6Q3XwY3",
      "include_colab_link": true
    },
    "kernelspec": {
      "name": "python3",
      "display_name": "Python 3"
    },
    "language_info": {
      "name": "python"
    }
  },
  "cells": [
    {
      "cell_type": "markdown",
      "metadata": {
        "id": "view-in-github",
        "colab_type": "text"
      },
      "source": [
        "<a href=\"https://colab.research.google.com/github/luxhary12345/LeKhacAnhChinh/blob/master/baisuat2.ipynb\" target=\"_parent\"><img src=\"https://colab.research.google.com/assets/colab-badge.svg\" alt=\"Open In Colab\"/></a>"
      ]
    },
    {
      "cell_type": "code",
      "metadata": {
        "colab": {
          "base_uri": "https://localhost:8080/"
        },
        "id": "UsEkx84CfJYt",
        "outputId": "88610f9d-8783-43a1-d609-389621de7166"
      },
      "source": [
        "nam=int(input(\"nhap vao so nam\"))\n",
        "thang=int(input(\"nhap vao so thang\"))\n",
        "ngay=0\n",
        "if nam%4==0:\n",
        "  if nam%100==0:\n",
        "    if nam%400==0:\n",
        "      a=1\n",
        "    else:\n",
        "      a=0\n",
        "  else:\n",
        "    a=1\n",
        "else:\n",
        "  a=0\n",
        "if nam==1 and thang==2:\n",
        "  a==29\n",
        "elif thang==2:\n",
        "  print(\"so ngay la 28\")\n",
        "elif thang==1 or thang==3 or thang==5 or thang==7 or thang==8 or thang==10 or thang==12:\n",
        "  a=31\n",
        "else:\n",
        "  a=30\n",
        "print(f\"{thang},{nam}, ngay {a}\")\n",
        "\n",
        "  #bai1#\n"
      ],
      "execution_count": 20,
      "outputs": [
        {
          "output_type": "stream",
          "name": "stdout",
          "text": [
            "nhap vao so nam2002\n",
            "nhap vao so thang12\n",
            "12,2002, ngay 31\n"
          ]
        }
      ]
    },
    {
      "cell_type": "markdown",
      "metadata": {
        "id": "JMd-Js39li14"
      },
      "source": [
        "1. Write a Python program to find the number of days in a month.\n",
        "Test Data\n",
        "Input a month number: 2\n",
        "Input a year: 2016\n",
        "Expected Output :\n",
        "February 2016 has 29 days\n",
        "```\n",
        "\n"
      ]
    },
    {
      "cell_type": "code",
      "metadata": {
        "colab": {
          "base_uri": "https://localhost:8080/"
        },
        "id": "IdXMjpMfiBC_",
        "outputId": "cd48596d-8293-4b80-c0e1-c14cc0e974ba"
      },
      "source": [
        "#bai2#\n",
        "nhap_chu=input(\"nhap 1 ki tu vao, viet thuong hoac viet hoa trong bang alphabet\").lower()\n",
        "if len(nhap_chu)==1:\n",
        "  if nhap_chu==\"u\" or nhap_chu==\"e\" or nhap_chu==\"o\"  or nhap_chu==\"a\"  or nhap_chu==\"i\":\n",
        "    print(\"ki tu nay la nguyen am\")\n",
        "  else:\n",
        "    print(\"ki tu nay la phu am\")\n",
        "else:\n",
        "  print(\"error\")\n",
        "\n"
      ],
      "execution_count": 13,
      "outputs": [
        {
          "output_type": "stream",
          "name": "stdout",
          "text": [
            "nhap 1 ki tu vao, viet thuong hoac viet hoa trong bang alphabeta\n",
            "ki tu nay la nguyen am\n"
          ]
        }
      ]
    },
    {
      "cell_type": "markdown",
      "metadata": {
        "id": "sBElf0aomr_h"
      },
      "source": [
        "2. Write a Python program that takes the user to provide a single character from the alphabet. Print\n",
        "Vowel or Consonant, depending on the user input. If the user input is not a letter (between a and z\n",
        "or A and Z), or is a string of length > 1, print an error message."
      ]
    },
    {
      "cell_type": "code",
      "metadata": {
        "colab": {
          "base_uri": "https://localhost:8080/"
        },
        "id": "ocFFFn8Bjwyj",
        "outputId": "d377ee62-4c8f-4e2e-adb3-5da257a4dd1c"
      },
      "source": [
        "#bai3#\n",
        "nam=int(input(\"nhap vao so nam\"))\n",
        "\n",
        "a=0\n",
        "if nam%4==0:\n",
        "  if nam%100==0:\n",
        "    if nam%400==0:\n",
        "      a=\"nam nhuan\"\n",
        "    else:\n",
        "      a=\"nam thuong\"\n",
        "  else:\n",
        "    a=\"nam nhuan\"\n",
        "else:\n",
        "  a=\"nam thuong\"\n",
        "print(f\"nam nayu la nam{a}\")"
      ],
      "execution_count": 18,
      "outputs": [
        {
          "output_type": "stream",
          "name": "stdout",
          "text": [
            "nhap vao so nam2012\n",
            "nam nayu la namnam nhuan\n"
          ]
        }
      ]
    },
    {
      "cell_type": "markdown",
      "metadata": {
        "id": "NEYjqaJdmuz8"
      },
      "source": [
        "3. Write a Python program that takes a year from user and print whether that year is a leap year or\n",
        "not\n",
        "Test Data\n",
        "Input the year: 2016\n",
        "Expected Output :\n",
        "2016 is a leap year"
      ]
    },
    {
      "cell_type": "code",
      "metadata": {
        "colab": {
          "base_uri": "https://localhost:8080/"
        },
        "id": "89a6-4HMkl9Z",
        "outputId": "1337c112-0ac6-41bf-c7d4-6688463dc5bb"
      },
      "source": [
        "#bai4#\n",
        "tong=0\n",
        "for i in range(1,6):\n",
        "  a=float(input(\"nhap so vao\"))\n",
        "  tong+=a\n",
        "trung_binh=tong/5\n",
        "print(tong,trung_binh)\n",
        "\n"
      ],
      "execution_count": 19,
      "outputs": [
        {
          "output_type": "stream",
          "name": "stdout",
          "text": [
            "nhap so vao5\n",
            "nhap so vao2\n",
            "nhap so vao3\n",
            "nhap so vao65\n",
            "nhap so vao2\n",
            "77.0 15.4\n"
          ]
        }
      ]
    },
    {
      "cell_type": "markdown",
      "metadata": {
        "id": "zQVIcpWEmxMs"
      },
      "source": [
        "4. Write a program in Python to input 5 numbers from keyboard and find their sum and average.\n",
        "Test Data\n",
        "Input the 5 numbers : 1 2 3 4 5\n",
        "Expected Output :\n",
        "The sum of 5 no is : 15\n",
        "The Average is : 3.0"
      ]
    }
  ]
}