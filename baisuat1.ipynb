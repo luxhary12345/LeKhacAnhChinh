{
  "nbformat": 4,
  "nbformat_minor": 0,
  "metadata": {
    "colab": {
      "name": "baisuat1.ipynb",
      "provenance": [],
      "authorship_tag": "ABX9TyPhE7wkeur4IO9z9qPoq/I2",
      "include_colab_link": true
    },
    "kernelspec": {
      "name": "python3",
      "display_name": "Python 3"
    },
    "language_info": {
      "name": "python"
    }
  },
  "cells": [
    {
      "cell_type": "markdown",
      "metadata": {
        "id": "view-in-github",
        "colab_type": "text"
      },
      "source": [
        "<a href=\"https://colab.research.google.com/github/luxhary12345/LeKhacAnhChinh/blob/master/baisuat1.ipynb\" target=\"_parent\"><img src=\"https://colab.research.google.com/assets/colab-badge.svg\" alt=\"Open In Colab\"/></a>"
      ]
    },
    {
      "cell_type": "code",
      "metadata": {
        "colab": {
          "base_uri": "https://localhost:8080/"
        },
        "id": "LnRj-2PE0kXB",
        "outputId": "c6486ecf-32bc-4c72-c6b5-8098bfcfcc34"
      },
      "source": [
        "#bai1#\n",
        "\n",
        "for i in range(10,201):\n",
        "  if i%7==0 and i%5!=0:\n",
        "    print(i)"
      ],
      "execution_count": null,
      "outputs": [
        {
          "output_type": "stream",
          "name": "stdout",
          "text": [
            "14\n",
            "21\n",
            "28\n",
            "42\n",
            "49\n",
            "56\n",
            "63\n",
            "77\n",
            "84\n",
            "91\n",
            "98\n",
            "112\n",
            "119\n",
            "126\n",
            "133\n",
            "147\n",
            "154\n",
            "161\n",
            "168\n",
            "182\n",
            "189\n",
            "196\n"
          ]
        }
      ]
    },
    {
      "cell_type": "markdown",
      "metadata": {
        "id": "GjU6T5rv3hYU"
      },
      "source": [
        "Bài 1: Viết chương trình tìm tất cả các số chia hết cho 7 nhưng không phải bội số của 5, nằm trong\n",
        "đoạn 10 và 200 (tính cả 10 và 200). Các số thu được sẽ được in ra màn hình."
      ]
    },
    {
      "cell_type": "code",
      "metadata": {
        "colab": {
          "base_uri": "https://localhost:8080/"
        },
        "id": "7yEZpDpu1nvj",
        "outputId": "aa5d95a8-3e94-4721-9c80-5b28c1f44fcb"
      },
      "source": [
        "#bai2#\n",
        "\n",
        "\n",
        "num = int(input(\"nhap so can tim giai thua: \"))    \n",
        "giai_thua = 1    \n",
        "if num < 0:    \n",
        "   print(\" khong hop le\")    \n",
        "elif num == 0:    \n",
        "   print(\"giai thua cua 0 la 1\")    \n",
        "else:    \n",
        "   for i in range(1,num + 1):    \n",
        "       giai_thua = giai_thua*i    \n",
        "   print(\"giai thua \",giai_thua)    "
      ],
      "execution_count": 1,
      "outputs": [
        {
          "output_type": "stream",
          "name": "stdout",
          "text": [
            "nhap so can tim giai thua: 7\n",
            "giai thua  5040\n"
          ]
        }
      ]
    },
    {
      "cell_type": "markdown",
      "metadata": {
        "id": "sshtp70v3ldP"
      },
      "source": [
        "Bài 2: Viết một chương trình tính giai thừa của một số nguyên dương n. Với n được nhập từ bàn\n",
        "phím. Ví dụ, n = 8 thì kết quả đầu ra phải là 1*2*3*4*5*6*7*8 = 40320."
      ]
    },
    {
      "cell_type": "code",
      "metadata": {
        "id": "gfAnvu8x5ATc",
        "colab": {
          "base_uri": "https://localhost:8080/",
          "height": 129
        },
        "outputId": "62566acd-5556-4b82-af61-d0c8b73b6840"
      },
      "source": [
        "#bai3#\n",
        "nhap_so=int(input(\"nhap vao so luong so fibo \")\n",
        "if nhap_so<1: \n",
        "  print(\"hay nhap so lon hon 0 \")\n",
        "else: \n",
        "  print(\"ket qua fibo:, end=\" \")\n",
        "  fib1,fib2,tong=0,1,0\n",
        "  while i<nhap_so:\n",
        "    print(fib1)\n",
        "    tong=fib1+fib2\n",
        "    fib1=fib2\n",
        "    fib2=tong\n",
        "    i+=1\n",
        "  \n",
        "  \n",
        "    \n"
      ],
      "execution_count": 18,
      "outputs": [
        {
          "output_type": "error",
          "ename": "SyntaxError",
          "evalue": "ignored",
          "traceback": [
            "\u001b[0;36m  File \u001b[0;32m\"<ipython-input-18-fd991cc19392>\"\u001b[0;36m, line \u001b[0;32m3\u001b[0m\n\u001b[0;31m    if nhap_so<1:\u001b[0m\n\u001b[0m                ^\u001b[0m\n\u001b[0;31mSyntaxError\u001b[0m\u001b[0;31m:\u001b[0m invalid syntax\n"
          ]
        }
      ]
    },
    {
      "cell_type": "markdown",
      "metadata": {
        "id": "K5pWefLl3utd"
      },
      "source": [
        "Bài 3: Dãy số Fibonacci được định nghĩa như sau: F0 = 0, F1 = 1, F2 = 1, Fn = F(n-1) + F(n-2)\n",
        "với n >= 2. Ví dụ: 0, 1, 1, 2, 3, 5, 8, ... Hãy viết chương trình tìm n số Fibonacci đầu tiên với n\n",
        "nhập vào từ bàn phím.\n"
      ]
    },
    {
      "cell_type": "code",
      "metadata": {
        "colab": {
          "base_uri": "https://localhost:8080/",
          "height": 129
        },
        "id": "4Q86jmRx5FjO",
        "outputId": "8cb7fb12-a7d9-4495-d810-6c8344750714"
      },
      "source": [
        "#bai4#\n",
        "n=(int(input(\"nhap so vao\"))\n",
        "for i in range(2,n):\n",
        "  for j in range(2,i):\n",
        "    if i%j==0:\n",
        "      break\n",
        "    else:\n",
        "      print(i)"
      ],
      "execution_count": 11,
      "outputs": [
        {
          "output_type": "error",
          "ename": "SyntaxError",
          "evalue": "ignored",
          "traceback": [
            "\u001b[0;36m  File \u001b[0;32m\"<ipython-input-11-2b4d319a42fa>\"\u001b[0;36m, line \u001b[0;32m3\u001b[0m\n\u001b[0;31m    for i in range(2,n+1):\u001b[0m\n\u001b[0m                         ^\u001b[0m\n\u001b[0;31mSyntaxError\u001b[0m\u001b[0;31m:\u001b[0m invalid syntax\n"
          ]
        }
      ]
    },
    {
      "cell_type": "markdown",
      "metadata": {
        "id": "KoqXqIKe3zTf"
      },
      "source": [
        "Bài 4: Viết chương trình liệt kê tất cả các số nguyên tố nhỏ hơn n. Số nguyên dương n được nhập\n",
        "từ bàn phím."
      ]
    },
    {
      "cell_type": "code",
      "metadata": {
        "colab": {
          "base_uri": "https://localhost:8080/"
        },
        "id": "xt6EZPGO8PMB",
        "outputId": "715785fb-6dfd-427c-f183-df97d27c7016"
      },
      "source": [
        "#bai5#\n",
        "n=int(input(\"nhap n:\"))\n",
        "count=0\n",
        "while count<n:\n",
        "  for i in range(1,11):\n",
        "    for j in range(2,i):\n",
        "      if(i%j==0):\n",
        "        break\n",
        "      else:\n",
        "        print(i)  \n",
        "        count+=1    \n"
      ],
      "execution_count": 16,
      "outputs": [
        {
          "output_type": "stream",
          "name": "stdout",
          "text": [
            "nhap n:5\n",
            "3\n",
            "5\n",
            "5\n",
            "5\n",
            "7\n",
            "7\n",
            "7\n",
            "7\n",
            "7\n",
            "9\n"
          ]
        }
      ]
    },
    {
      "cell_type": "markdown",
      "metadata": {
        "id": "KGXDZs9531B5"
      },
      "source": [
        "Bài 5: Viết chương trình liệt kê n số nguyên tố đầu tiên. Số nguyên dương n được nhập từ bàn\n",
        "phím."
      ]
    },
    {
      "cell_type": "code",
      "metadata": {
        "id": "8isIz000-Trq"
      },
      "source": [
        "#bai6#\n",
        "\n",
        "lower = 10000\n",
        "upper = 99999\n",
        "\n",
        "print(\"so nguyen to 5 chu so la:\")\n",
        "\n",
        "for num in range(lower, upper + 1):\n",
        "   if num > 1:\n",
        "       for i in range(2, num):\n",
        "           if (num % i) == 0:\n",
        "               break\n",
        "       else:\n",
        "           print(num)"
      ],
      "execution_count": null,
      "outputs": []
    },
    {
      "cell_type": "markdown",
      "metadata": {
        "id": "F1-I6tQL35OZ"
      },
      "source": [
        "Bài 6: Viết chương trình liệt kê tất cả số nguyên tố có 5 chữ số."
      ]
    },
    {
      "cell_type": "code",
      "metadata": {
        "colab": {
          "base_uri": "https://localhost:8080/"
        },
        "id": "YuA5165w_ZX3",
        "outputId": "42933373-bdee-4d40-f903-65d1d2cd774d"
      },
      "source": [
        "\n",
        "nhap_so=int(input(\"nhap so vao\"))\n",
        "tong = 0\n",
        "stringso=\"\"\n",
        "for i in str(nhap_so):\n",
        "  tong += int(i)\n",
        "print(tong)\n",
        "j=0\n",
        "while nhap_so//10!=0:\n",
        "  j+=1\n",
        "  nhap_so=nhap_so//10\n",
        "if j== len(str(nhap_so))-1:\n",
        "  nhap_so=nhap_so%10\n",
        "for a in range(1,j):\n",
        "  stringso+=\"+\"+str(nhap_so%10)\n",
        "print(stringso)\n"
      ],
      "execution_count": 27,
      "outputs": [
        {
          "output_type": "stream",
          "name": "stdout",
          "text": [
            "nhap so vao7\n",
            "7\n",
            "\n"
          ]
        }
      ]
    },
    {
      "cell_type": "code",
      "metadata": {
        "colab": {
          "base_uri": "https://localhost:8080/"
        },
        "id": "E8cH1W_X2cuQ",
        "outputId": "76803ad5-2dcd-4d21-c17c-3d10746e6c66"
      },
      "source": [
        "#bai7#\n",
        "nhap_so=int(input(\"nhap so nguyen duong vao\"))\n",
        "tong=0\n",
        "for i in str(nhap_so):\n",
        "  tong+=int(i)\n",
        "print(tong)"
      ],
      "execution_count": 29,
      "outputs": [
        {
          "output_type": "stream",
          "name": "stdout",
          "text": [
            "nhap so nguyen duong vao67\n",
            "13\n"
          ]
        }
      ]
    },
    {
      "cell_type": "markdown",
      "metadata": {
        "id": "7dtauehr38Yw"
      },
      "source": [
        "Bài 7: Viết chương trình tính tổng của các chữ số của môt số nguyên n. Số nguyên dương n được\n",
        "nhập từ bàn phím. Ví dụ: n = 1234, tổng các chữ số: 1 + 2 + 3 + 4 = 10"
      ]
    }
  ]
}